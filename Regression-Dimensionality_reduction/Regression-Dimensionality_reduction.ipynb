{
 "cells": [
  {
   "cell_type": "markdown",
   "id": "0494adc8",
   "metadata": {},
   "source": [
    "# Project: Dimensionality reduction\n",
    "\n",
    "The project consists in reducing the dimensionality of a problem with small sample sizes. 8 data points are available, each associated to over 1650 possible predictors. The project aims at predicting a continuous target value of 8 provided samples.\n",
    "\n",
    "This notebook is structured to reflect the modelling framework:\n",
    "- Data exploration\n",
    "- Data cleaning\n",
    "- Visualisation\n",
    "- Baseline modelling\n",
    "- Model refinement\n",
    "\n",
    "The framework steps are further detailed in the notebook. This notebook should be executed in a folder containing the provided dataset."
   ]
  },
  {
   "cell_type": "markdown",
   "id": "aff217e7",
   "metadata": {},
   "source": [
    "# 0. Import packages and data\n",
    "\n",
    "## 0.1 Packages"
   ]
  },
  {
   "cell_type": "code",
   "execution_count": 1,
   "id": "0358f3e5",
   "metadata": {},
   "outputs": [],
   "source": [
    "# System\n",
    "import os\n",
    "import warnings\n",
    "warnings.filterwarnings('ignore')\n",
    "\n",
    "# Data manipulation\n",
    "import numpy as np\n",
    "import pandas as pd\n",
    "\n",
    "# Visualisation\n",
    "import missingno as msno\n",
    "import matplotlib.pyplot as plt\n",
    "import seaborn as sns\n",
    "sns.set_palette('viridis')\n",
    "colours = sns.color_palette('viridis', n_colors=8)\n",
    "\n",
    "# Imputing\n",
    "from sklearn.impute import SimpleImputer\n",
    "\n",
    "# Pipeline\n",
    "from sklearn.pipeline import Pipeline\n",
    "\n",
    "# Preprocessing\n",
    "from sklearn.preprocessing import StandardScaler\n",
    "\n",
    "# Decomposition\n",
    "from sklearn.decomposition import PCA\n",
    "\n",
    "# Modelling\n",
    "from sklearn.linear_model import LinearRegression\n",
    "from sklearn.linear_model import Lasso\n",
    "\n",
    "# Model selection\n",
    "from sklearn.model_selection import cross_val_score\n",
    "from sklearn.model_selection import GridSearchCV\n",
    "\n",
    "# Metrics\n",
    "from sklearn.metrics import mean_absolute_error"
   ]
  },
  {
   "cell_type": "markdown",
   "id": "40268975",
   "metadata": {},
   "source": [
    " ## 0.2 Data"
   ]
  },
  {
   "cell_type": "code",
   "execution_count": 2,
   "id": "ce0c7c72",
   "metadata": {},
   "outputs": [
    {
     "data": {
      "text/plain": [
       "['~$signment Data scientist chemistry.docx',\n",
       " 'anonymised.csv',\n",
       " 'dragon_molecular_descriptor_list.pdf',\n",
       " 'devinyak2014.pdf',\n",
       " 'dragon data of available SMILES.csv',\n",
       " 'Anonymised.ipynb',\n",
       " 'Data Scientist Chemometrics assignment.pptx',\n",
       " 'Submission.py',\n",
       " 'Submission.zip',\n",
       " 'Predictive model.ipynb',\n",
       " 'Submission.pdf',\n",
       " 'ratio_vs_power.txt',\n",
       " '.ipynb_checkpoints',\n",
       " 'Assignment Data scientist chemistry.docx',\n",
       " 'Submission.ipynb',\n",
       " 'Submission',\n",
       " 'Regression model.ipynb',\n",
       " 'Data Scientist Chemometrics assignment.pdf']"
      ]
     },
     "execution_count": 2,
     "metadata": {},
     "output_type": "execute_result"
    }
   ],
   "source": [
    "# The working directory to execute this code should be a folder containing both datasets provided\n",
    "os.listdir('.')"
   ]
  },
  {
   "cell_type": "code",
   "execution_count": 3,
   "id": "e7810615",
   "metadata": {
    "scrolled": true
   },
   "outputs": [
    {
     "name": "stdout",
     "output_type": "stream",
     "text": [
      "DataFrame shape: (4524, 1667)\n"
     ]
    },
    {
     "data": {
      "text/html": [
       "<div>\n",
       "<style scoped>\n",
       "    .dataframe tbody tr th:only-of-type {\n",
       "        vertical-align: middle;\n",
       "    }\n",
       "\n",
       "    .dataframe tbody tr th {\n",
       "        vertical-align: top;\n",
       "    }\n",
       "\n",
       "    .dataframe thead th {\n",
       "        text-align: right;\n",
       "    }\n",
       "</style>\n",
       "<table border=\"1\" class=\"dataframe\">\n",
       "  <thead>\n",
       "    <tr style=\"text-align: right;\">\n",
       "      <th></th>\n",
       "      <th>Feature0</th>\n",
       "      <th>Feature1</th>\n",
       "      <th>Feature2</th>\n",
       "      <th>Feature3</th>\n",
       "      <th>Feature4</th>\n",
       "      <th>Feature5</th>\n",
       "      <th>Feature6</th>\n",
       "      <th>Feature7</th>\n",
       "      <th>Feature8</th>\n",
       "      <th>Feature9</th>\n",
       "      <th>...</th>\n",
       "      <th>Feature1657</th>\n",
       "      <th>Feature1658</th>\n",
       "      <th>Feature1659</th>\n",
       "      <th>Feature1660</th>\n",
       "      <th>Feature1661</th>\n",
       "      <th>Feature1662</th>\n",
       "      <th>Feature1663</th>\n",
       "      <th>Feature1664</th>\n",
       "      <th>Feature1665</th>\n",
       "      <th>Target</th>\n",
       "    </tr>\n",
       "    <tr>\n",
       "      <th>Id</th>\n",
       "      <th></th>\n",
       "      <th></th>\n",
       "      <th></th>\n",
       "      <th></th>\n",
       "      <th></th>\n",
       "      <th></th>\n",
       "      <th></th>\n",
       "      <th></th>\n",
       "      <th></th>\n",
       "      <th></th>\n",
       "      <th></th>\n",
       "      <th></th>\n",
       "      <th></th>\n",
       "      <th></th>\n",
       "      <th></th>\n",
       "      <th></th>\n",
       "      <th></th>\n",
       "      <th></th>\n",
       "      <th></th>\n",
       "      <th></th>\n",
       "      <th></th>\n",
       "    </tr>\n",
       "  </thead>\n",
       "  <tbody>\n",
       "    <tr>\n",
       "      <th>6309</th>\n",
       "      <td>154.28</td>\n",
       "      <td>5.32</td>\n",
       "      <td>15.89</td>\n",
       "      <td>28.28</td>\n",
       "      <td>17.31</td>\n",
       "      <td>24.92</td>\n",
       "      <td>0.55</td>\n",
       "      <td>0.98</td>\n",
       "      <td>0.60</td>\n",
       "      <td>2.27</td>\n",
       "      <td>...</td>\n",
       "      <td>0</td>\n",
       "      <td>0</td>\n",
       "      <td>1</td>\n",
       "      <td>0</td>\n",
       "      <td>-3.64</td>\n",
       "      <td>-3.83</td>\n",
       "      <td>-3.87</td>\n",
       "      <td>2.68</td>\n",
       "      <td>-2.51</td>\n",
       "      <td>NaN</td>\n",
       "    </tr>\n",
       "    <tr>\n",
       "      <th>7794</th>\n",
       "      <td>152.16</td>\n",
       "      <td>8.01</td>\n",
       "      <td>11.93</td>\n",
       "      <td>19.52</td>\n",
       "      <td>12.41</td>\n",
       "      <td>31.50</td>\n",
       "      <td>0.63</td>\n",
       "      <td>1.03</td>\n",
       "      <td>0.65</td>\n",
       "      <td>2.86</td>\n",
       "      <td>...</td>\n",
       "      <td>0</td>\n",
       "      <td>0</td>\n",
       "      <td>0</td>\n",
       "      <td>0</td>\n",
       "      <td>-2.17</td>\n",
       "      <td>-2.20</td>\n",
       "      <td>-2.15</td>\n",
       "      <td>1.31</td>\n",
       "      <td>-1.48</td>\n",
       "      <td>NaN</td>\n",
       "    </tr>\n",
       "    <tr>\n",
       "      <th>2767</th>\n",
       "      <td>122.18</td>\n",
       "      <td>6.43</td>\n",
       "      <td>11.50</td>\n",
       "      <td>18.75</td>\n",
       "      <td>12.26</td>\n",
       "      <td>20.67</td>\n",
       "      <td>0.61</td>\n",
       "      <td>0.99</td>\n",
       "      <td>0.65</td>\n",
       "      <td>2.30</td>\n",
       "      <td>...</td>\n",
       "      <td>0</td>\n",
       "      <td>0</td>\n",
       "      <td>0</td>\n",
       "      <td>0</td>\n",
       "      <td>-3.03</td>\n",
       "      <td>-3.15</td>\n",
       "      <td>-3.15</td>\n",
       "      <td>1.51</td>\n",
       "      <td>-1.03</td>\n",
       "      <td>NaN</td>\n",
       "    </tr>\n",
       "    <tr>\n",
       "      <th>3365</th>\n",
       "      <td>102.15</td>\n",
       "      <td>6.01</td>\n",
       "      <td>9.01</td>\n",
       "      <td>17.07</td>\n",
       "      <td>9.72</td>\n",
       "      <td>21.50</td>\n",
       "      <td>0.53</td>\n",
       "      <td>1.00</td>\n",
       "      <td>0.57</td>\n",
       "      <td>3.07</td>\n",
       "      <td>...</td>\n",
       "      <td>0</td>\n",
       "      <td>0</td>\n",
       "      <td>0</td>\n",
       "      <td>0</td>\n",
       "      <td>-2.24</td>\n",
       "      <td>-2.27</td>\n",
       "      <td>-2.23</td>\n",
       "      <td>1.26</td>\n",
       "      <td>-0.20</td>\n",
       "      <td>NaN</td>\n",
       "    </tr>\n",
       "    <tr>\n",
       "      <th>3733</th>\n",
       "      <td>128.14</td>\n",
       "      <td>7.54</td>\n",
       "      <td>9.93</td>\n",
       "      <td>17.52</td>\n",
       "      <td>10.41</td>\n",
       "      <td>26.83</td>\n",
       "      <td>0.58</td>\n",
       "      <td>1.03</td>\n",
       "      <td>0.61</td>\n",
       "      <td>2.98</td>\n",
       "      <td>...</td>\n",
       "      <td>0</td>\n",
       "      <td>0</td>\n",
       "      <td>0</td>\n",
       "      <td>0</td>\n",
       "      <td>-0.73</td>\n",
       "      <td>-0.58</td>\n",
       "      <td>-0.46</td>\n",
       "      <td>-0.33</td>\n",
       "      <td>0.54</td>\n",
       "      <td>NaN</td>\n",
       "    </tr>\n",
       "  </tbody>\n",
       "</table>\n",
       "<p>5 rows × 1667 columns</p>\n",
       "</div>"
      ],
      "text/plain": [
       "      Feature0  Feature1  Feature2  Feature3  Feature4  Feature5  Feature6  \\\n",
       "Id                                                                           \n",
       "6309    154.28      5.32     15.89     28.28     17.31     24.92      0.55   \n",
       "7794    152.16      8.01     11.93     19.52     12.41     31.50      0.63   \n",
       "2767    122.18      6.43     11.50     18.75     12.26     20.67      0.61   \n",
       "3365    102.15      6.01      9.01     17.07      9.72     21.50      0.53   \n",
       "3733    128.14      7.54      9.93     17.52     10.41     26.83      0.58   \n",
       "\n",
       "      Feature7  Feature8  Feature9  ...  Feature1657  Feature1658  \\\n",
       "Id                                  ...                             \n",
       "6309      0.98      0.60      2.27  ...            0            0   \n",
       "7794      1.03      0.65      2.86  ...            0            0   \n",
       "2767      0.99      0.65      2.30  ...            0            0   \n",
       "3365      1.00      0.57      3.07  ...            0            0   \n",
       "3733      1.03      0.61      2.98  ...            0            0   \n",
       "\n",
       "      Feature1659  Feature1660  Feature1661  Feature1662  Feature1663  \\\n",
       "Id                                                                      \n",
       "6309            1            0        -3.64        -3.83        -3.87   \n",
       "7794            0            0        -2.17        -2.20        -2.15   \n",
       "2767            0            0        -3.03        -3.15        -3.15   \n",
       "3365            0            0        -2.24        -2.27        -2.23   \n",
       "3733            0            0        -0.73        -0.58        -0.46   \n",
       "\n",
       "      Feature1664  Feature1665  Target  \n",
       "Id                                      \n",
       "6309         2.68        -2.51     NaN  \n",
       "7794         1.31        -1.48     NaN  \n",
       "2767         1.51        -1.03     NaN  \n",
       "3365         1.26        -0.20     NaN  \n",
       "3733        -0.33         0.54     NaN  \n",
       "\n",
       "[5 rows x 1667 columns]"
      ]
     },
     "execution_count": 3,
     "metadata": {},
     "output_type": "execute_result"
    }
   ],
   "source": [
    "all_data = pd.read_csv('anonymised.csv', header=0)\n",
    "all_data.set_index('Id', inplace=True)\n",
    "\n",
    "# Cursory check of all data\n",
    "print(f'DataFrame shape: {all_data.shape}')\n",
    "all_data.head()"
   ]
  },
  {
   "cell_type": "code",
   "execution_count": 4,
   "id": "dbf69aa6",
   "metadata": {
    "scrolled": true
   },
   "outputs": [
    {
     "data": {
      "text/html": [
       "<div>\n",
       "<style scoped>\n",
       "    .dataframe tbody tr th:only-of-type {\n",
       "        vertical-align: middle;\n",
       "    }\n",
       "\n",
       "    .dataframe tbody tr th {\n",
       "        vertical-align: top;\n",
       "    }\n",
       "\n",
       "    .dataframe thead th {\n",
       "        text-align: right;\n",
       "    }\n",
       "</style>\n",
       "<table border=\"1\" class=\"dataframe\">\n",
       "  <thead>\n",
       "    <tr style=\"text-align: right;\">\n",
       "      <th></th>\n",
       "      <th>MW</th>\n",
       "      <th>AMW</th>\n",
       "      <th>Sv</th>\n",
       "      <th>Se</th>\n",
       "      <th>Sp</th>\n",
       "      <th>Ss</th>\n",
       "      <th>Mv</th>\n",
       "      <th>Me</th>\n",
       "      <th>Mp</th>\n",
       "      <th>Ms</th>\n",
       "      <th>...</th>\n",
       "      <th>Neoplastic-80</th>\n",
       "      <th>Neoplastic-50</th>\n",
       "      <th>Infective-80</th>\n",
       "      <th>Infective-50</th>\n",
       "      <th>BLTF96</th>\n",
       "      <th>BLTD48</th>\n",
       "      <th>BLTA96</th>\n",
       "      <th>ALOGPS_logP</th>\n",
       "      <th>ALOGPS_logS</th>\n",
       "      <th>Slope</th>\n",
       "    </tr>\n",
       "    <tr>\n",
       "      <th>aroma_molecule_id</th>\n",
       "      <th></th>\n",
       "      <th></th>\n",
       "      <th></th>\n",
       "      <th></th>\n",
       "      <th></th>\n",
       "      <th></th>\n",
       "      <th></th>\n",
       "      <th></th>\n",
       "      <th></th>\n",
       "      <th></th>\n",
       "      <th></th>\n",
       "      <th></th>\n",
       "      <th></th>\n",
       "      <th></th>\n",
       "      <th></th>\n",
       "      <th></th>\n",
       "      <th></th>\n",
       "      <th></th>\n",
       "      <th></th>\n",
       "      <th></th>\n",
       "      <th></th>\n",
       "    </tr>\n",
       "  </thead>\n",
       "  <tbody>\n",
       "    <tr>\n",
       "      <th>6309</th>\n",
       "      <td>154.28</td>\n",
       "      <td>5.32</td>\n",
       "      <td>15.89</td>\n",
       "      <td>28.28</td>\n",
       "      <td>17.31</td>\n",
       "      <td>24.92</td>\n",
       "      <td>0.55</td>\n",
       "      <td>0.98</td>\n",
       "      <td>0.60</td>\n",
       "      <td>2.27</td>\n",
       "      <td>...</td>\n",
       "      <td>0</td>\n",
       "      <td>0</td>\n",
       "      <td>1</td>\n",
       "      <td>0</td>\n",
       "      <td>-3.64</td>\n",
       "      <td>-3.83</td>\n",
       "      <td>-3.87</td>\n",
       "      <td>2.68</td>\n",
       "      <td>-2.51</td>\n",
       "      <td>NaN</td>\n",
       "    </tr>\n",
       "    <tr>\n",
       "      <th>7794</th>\n",
       "      <td>152.16</td>\n",
       "      <td>8.01</td>\n",
       "      <td>11.93</td>\n",
       "      <td>19.52</td>\n",
       "      <td>12.41</td>\n",
       "      <td>31.50</td>\n",
       "      <td>0.63</td>\n",
       "      <td>1.03</td>\n",
       "      <td>0.65</td>\n",
       "      <td>2.86</td>\n",
       "      <td>...</td>\n",
       "      <td>0</td>\n",
       "      <td>0</td>\n",
       "      <td>0</td>\n",
       "      <td>0</td>\n",
       "      <td>-2.17</td>\n",
       "      <td>-2.20</td>\n",
       "      <td>-2.15</td>\n",
       "      <td>1.31</td>\n",
       "      <td>-1.48</td>\n",
       "      <td>NaN</td>\n",
       "    </tr>\n",
       "    <tr>\n",
       "      <th>2767</th>\n",
       "      <td>122.18</td>\n",
       "      <td>6.43</td>\n",
       "      <td>11.50</td>\n",
       "      <td>18.75</td>\n",
       "      <td>12.26</td>\n",
       "      <td>20.67</td>\n",
       "      <td>0.61</td>\n",
       "      <td>0.99</td>\n",
       "      <td>0.65</td>\n",
       "      <td>2.30</td>\n",
       "      <td>...</td>\n",
       "      <td>0</td>\n",
       "      <td>0</td>\n",
       "      <td>0</td>\n",
       "      <td>0</td>\n",
       "      <td>-3.03</td>\n",
       "      <td>-3.15</td>\n",
       "      <td>-3.15</td>\n",
       "      <td>1.51</td>\n",
       "      <td>-1.03</td>\n",
       "      <td>NaN</td>\n",
       "    </tr>\n",
       "    <tr>\n",
       "      <th>3365</th>\n",
       "      <td>102.15</td>\n",
       "      <td>6.01</td>\n",
       "      <td>9.01</td>\n",
       "      <td>17.07</td>\n",
       "      <td>9.72</td>\n",
       "      <td>21.50</td>\n",
       "      <td>0.53</td>\n",
       "      <td>1.00</td>\n",
       "      <td>0.57</td>\n",
       "      <td>3.07</td>\n",
       "      <td>...</td>\n",
       "      <td>0</td>\n",
       "      <td>0</td>\n",
       "      <td>0</td>\n",
       "      <td>0</td>\n",
       "      <td>-2.24</td>\n",
       "      <td>-2.27</td>\n",
       "      <td>-2.23</td>\n",
       "      <td>1.26</td>\n",
       "      <td>-0.20</td>\n",
       "      <td>NaN</td>\n",
       "    </tr>\n",
       "    <tr>\n",
       "      <th>3733</th>\n",
       "      <td>128.14</td>\n",
       "      <td>7.54</td>\n",
       "      <td>9.93</td>\n",
       "      <td>17.52</td>\n",
       "      <td>10.41</td>\n",
       "      <td>26.83</td>\n",
       "      <td>0.58</td>\n",
       "      <td>1.03</td>\n",
       "      <td>0.61</td>\n",
       "      <td>2.98</td>\n",
       "      <td>...</td>\n",
       "      <td>0</td>\n",
       "      <td>0</td>\n",
       "      <td>0</td>\n",
       "      <td>0</td>\n",
       "      <td>-0.73</td>\n",
       "      <td>-0.58</td>\n",
       "      <td>-0.46</td>\n",
       "      <td>-0.33</td>\n",
       "      <td>0.54</td>\n",
       "      <td>NaN</td>\n",
       "    </tr>\n",
       "  </tbody>\n",
       "</table>\n",
       "<p>5 rows × 1667 columns</p>\n",
       "</div>"
      ],
      "text/plain": [
       "                       MW   AMW     Sv     Se     Sp     Ss    Mv    Me    Mp  \\\n",
       "aroma_molecule_id                                                               \n",
       "6309               154.28  5.32  15.89  28.28  17.31  24.92  0.55  0.98  0.60   \n",
       "7794               152.16  8.01  11.93  19.52  12.41  31.50  0.63  1.03  0.65   \n",
       "2767               122.18  6.43  11.50  18.75  12.26  20.67  0.61  0.99  0.65   \n",
       "3365               102.15  6.01   9.01  17.07   9.72  21.50  0.53  1.00  0.57   \n",
       "3733               128.14  7.54   9.93  17.52  10.41  26.83  0.58  1.03  0.61   \n",
       "\n",
       "                     Ms  ...  Neoplastic-80  Neoplastic-50  Infective-80  \\\n",
       "aroma_molecule_id        ...                                               \n",
       "6309               2.27  ...              0              0             1   \n",
       "7794               2.86  ...              0              0             0   \n",
       "2767               2.30  ...              0              0             0   \n",
       "3365               3.07  ...              0              0             0   \n",
       "3733               2.98  ...              0              0             0   \n",
       "\n",
       "                   Infective-50  BLTF96  BLTD48  BLTA96  ALOGPS_logP  \\\n",
       "aroma_molecule_id                                                      \n",
       "6309                          0   -3.64   -3.83   -3.87         2.68   \n",
       "7794                          0   -2.17   -2.20   -2.15         1.31   \n",
       "2767                          0   -3.03   -3.15   -3.15         1.51   \n",
       "3365                          0   -2.24   -2.27   -2.23         1.26   \n",
       "3733                          0   -0.73   -0.58   -0.46        -0.33   \n",
       "\n",
       "                   ALOGPS_logS  Slope  \n",
       "aroma_molecule_id                      \n",
       "6309                     -2.51    NaN  \n",
       "7794                     -1.48    NaN  \n",
       "2767                     -1.03    NaN  \n",
       "3365                     -0.20    NaN  \n",
       "3733                      0.54    NaN  \n",
       "\n",
       "[5 rows x 1667 columns]"
      ]
     },
     "execution_count": 4,
     "metadata": {},
     "output_type": "execute_result"
    }
   ],
   "source": [
    "dragon_df = pd.read_csv('dragon data of available SMILES.csv', sep=';', header=0, decimal=',')\\\n",
    "    .set_index('aroma_molecule_id')\n",
    "\n",
    "slope_df = pd.read_csv('ratio_vs_power.txt', sep='\\t', header=0)\n",
    "slope_df.rename({' MoleculeId': 'MoleculeId'}, axis=1, inplace=True)\n",
    "slope_df.set_index('MoleculeId', inplace=True)\n",
    "\n",
    "dragon_data = dragon_df.join(slope_df, how='left')\n",
    "dragon_data.drop(['MoleculeName', 'CAS', 'CanonicalSMILES', 'MOL_ID'], axis=1, inplace=True)\n",
    "dragon_data.head()"
   ]
  },
  {
   "cell_type": "code",
   "execution_count": 5,
   "id": "23dd6657",
   "metadata": {
    "scrolled": true
   },
   "outputs": [
    {
     "data": {
      "text/plain": [
       "MW             160.593521\n",
       "AMW              6.401521\n",
       "Sv              15.272239\n",
       "Se              26.557896\n",
       "Sp              16.581788\n",
       "                  ...    \n",
       "BLTD48          -3.614613\n",
       "BLTA96          -3.645241\n",
       "ALOGPS_logP      3.700424\n",
       "ALOGPS_logS     -1.984430\n",
       "Slope            0.693550\n",
       "Length: 1667, dtype: float64"
      ]
     },
     "execution_count": 5,
     "metadata": {},
     "output_type": "execute_result"
    }
   ],
   "source": [
    "dragon_data.mean(axis=0)"
   ]
  },
  {
   "cell_type": "code",
   "execution_count": 6,
   "id": "ee63cafe",
   "metadata": {
    "scrolled": true
   },
   "outputs": [
    {
     "data": {
      "text/plain": [
       "Feature0       160.593521\n",
       "Feature1         6.401521\n",
       "Feature2        15.272239\n",
       "Feature3        26.557896\n",
       "Feature4        16.581788\n",
       "                  ...    \n",
       "Feature1662     -3.614613\n",
       "Feature1663     -3.645241\n",
       "Feature1664      3.700424\n",
       "Feature1665     -1.984430\n",
       "Target           0.693550\n",
       "Length: 1667, dtype: float64"
      ]
     },
     "execution_count": 6,
     "metadata": {},
     "output_type": "execute_result"
    }
   ],
   "source": [
    "all_data.mean(axis=0)"
   ]
  },
  {
   "cell_type": "code",
   "execution_count": 7,
   "id": "13eba04f",
   "metadata": {
    "scrolled": true
   },
   "outputs": [
    {
     "name": "stdout",
     "output_type": "stream",
     "text": [
      "True\n"
     ]
    },
    {
     "data": {
      "text/html": [
       "<div>\n",
       "<style scoped>\n",
       "    .dataframe tbody tr th:only-of-type {\n",
       "        vertical-align: middle;\n",
       "    }\n",
       "\n",
       "    .dataframe tbody tr th {\n",
       "        vertical-align: top;\n",
       "    }\n",
       "\n",
       "    .dataframe thead th {\n",
       "        text-align: right;\n",
       "    }\n",
       "</style>\n",
       "<table border=\"1\" class=\"dataframe\">\n",
       "  <thead>\n",
       "    <tr style=\"text-align: right;\">\n",
       "      <th></th>\n",
       "      <th>Feature0</th>\n",
       "      <th>Feature1</th>\n",
       "      <th>Feature2</th>\n",
       "      <th>Feature3</th>\n",
       "      <th>Feature4</th>\n",
       "      <th>Feature5</th>\n",
       "      <th>Feature6</th>\n",
       "      <th>Feature7</th>\n",
       "      <th>Feature8</th>\n",
       "      <th>Feature9</th>\n",
       "      <th>...</th>\n",
       "      <th>Feature1657</th>\n",
       "      <th>Feature1658</th>\n",
       "      <th>Feature1659</th>\n",
       "      <th>Feature1660</th>\n",
       "      <th>Feature1661</th>\n",
       "      <th>Feature1662</th>\n",
       "      <th>Feature1663</th>\n",
       "      <th>Feature1664</th>\n",
       "      <th>Feature1665</th>\n",
       "      <th>Target</th>\n",
       "    </tr>\n",
       "    <tr>\n",
       "      <th>Id</th>\n",
       "      <th></th>\n",
       "      <th></th>\n",
       "      <th></th>\n",
       "      <th></th>\n",
       "      <th></th>\n",
       "      <th></th>\n",
       "      <th></th>\n",
       "      <th></th>\n",
       "      <th></th>\n",
       "      <th></th>\n",
       "      <th></th>\n",
       "      <th></th>\n",
       "      <th></th>\n",
       "      <th></th>\n",
       "      <th></th>\n",
       "      <th></th>\n",
       "      <th></th>\n",
       "      <th></th>\n",
       "      <th></th>\n",
       "      <th></th>\n",
       "      <th></th>\n",
       "    </tr>\n",
       "  </thead>\n",
       "  <tbody>\n",
       "    <tr>\n",
       "      <th>6309</th>\n",
       "      <td>154.28</td>\n",
       "      <td>5.32</td>\n",
       "      <td>15.89</td>\n",
       "      <td>28.28</td>\n",
       "      <td>17.31</td>\n",
       "      <td>24.92</td>\n",
       "      <td>0.55</td>\n",
       "      <td>0.98</td>\n",
       "      <td>0.60</td>\n",
       "      <td>2.27</td>\n",
       "      <td>...</td>\n",
       "      <td>0</td>\n",
       "      <td>0</td>\n",
       "      <td>1</td>\n",
       "      <td>0</td>\n",
       "      <td>-3.64</td>\n",
       "      <td>-3.83</td>\n",
       "      <td>-3.87</td>\n",
       "      <td>2.68</td>\n",
       "      <td>-2.51</td>\n",
       "      <td>NaN</td>\n",
       "    </tr>\n",
       "    <tr>\n",
       "      <th>7794</th>\n",
       "      <td>152.16</td>\n",
       "      <td>8.01</td>\n",
       "      <td>11.93</td>\n",
       "      <td>19.52</td>\n",
       "      <td>12.41</td>\n",
       "      <td>31.50</td>\n",
       "      <td>0.63</td>\n",
       "      <td>1.03</td>\n",
       "      <td>0.65</td>\n",
       "      <td>2.86</td>\n",
       "      <td>...</td>\n",
       "      <td>0</td>\n",
       "      <td>0</td>\n",
       "      <td>0</td>\n",
       "      <td>0</td>\n",
       "      <td>-2.17</td>\n",
       "      <td>-2.20</td>\n",
       "      <td>-2.15</td>\n",
       "      <td>1.31</td>\n",
       "      <td>-1.48</td>\n",
       "      <td>NaN</td>\n",
       "    </tr>\n",
       "    <tr>\n",
       "      <th>2767</th>\n",
       "      <td>122.18</td>\n",
       "      <td>6.43</td>\n",
       "      <td>11.50</td>\n",
       "      <td>18.75</td>\n",
       "      <td>12.26</td>\n",
       "      <td>20.67</td>\n",
       "      <td>0.61</td>\n",
       "      <td>0.99</td>\n",
       "      <td>0.65</td>\n",
       "      <td>2.30</td>\n",
       "      <td>...</td>\n",
       "      <td>0</td>\n",
       "      <td>0</td>\n",
       "      <td>0</td>\n",
       "      <td>0</td>\n",
       "      <td>-3.03</td>\n",
       "      <td>-3.15</td>\n",
       "      <td>-3.15</td>\n",
       "      <td>1.51</td>\n",
       "      <td>-1.03</td>\n",
       "      <td>NaN</td>\n",
       "    </tr>\n",
       "    <tr>\n",
       "      <th>3365</th>\n",
       "      <td>102.15</td>\n",
       "      <td>6.01</td>\n",
       "      <td>9.01</td>\n",
       "      <td>17.07</td>\n",
       "      <td>9.72</td>\n",
       "      <td>21.50</td>\n",
       "      <td>0.53</td>\n",
       "      <td>1.00</td>\n",
       "      <td>0.57</td>\n",
       "      <td>3.07</td>\n",
       "      <td>...</td>\n",
       "      <td>0</td>\n",
       "      <td>0</td>\n",
       "      <td>0</td>\n",
       "      <td>0</td>\n",
       "      <td>-2.24</td>\n",
       "      <td>-2.27</td>\n",
       "      <td>-2.23</td>\n",
       "      <td>1.26</td>\n",
       "      <td>-0.20</td>\n",
       "      <td>NaN</td>\n",
       "    </tr>\n",
       "    <tr>\n",
       "      <th>3733</th>\n",
       "      <td>128.14</td>\n",
       "      <td>7.54</td>\n",
       "      <td>9.93</td>\n",
       "      <td>17.52</td>\n",
       "      <td>10.41</td>\n",
       "      <td>26.83</td>\n",
       "      <td>0.58</td>\n",
       "      <td>1.03</td>\n",
       "      <td>0.61</td>\n",
       "      <td>2.98</td>\n",
       "      <td>...</td>\n",
       "      <td>0</td>\n",
       "      <td>0</td>\n",
       "      <td>0</td>\n",
       "      <td>0</td>\n",
       "      <td>-0.73</td>\n",
       "      <td>-0.58</td>\n",
       "      <td>-0.46</td>\n",
       "      <td>-0.33</td>\n",
       "      <td>0.54</td>\n",
       "      <td>NaN</td>\n",
       "    </tr>\n",
       "  </tbody>\n",
       "</table>\n",
       "<p>5 rows × 1667 columns</p>\n",
       "</div>"
      ],
      "text/plain": [
       "      Feature0  Feature1  Feature2  Feature3  Feature4  Feature5  Feature6  \\\n",
       "Id                                                                           \n",
       "6309    154.28      5.32     15.89     28.28     17.31     24.92      0.55   \n",
       "7794    152.16      8.01     11.93     19.52     12.41     31.50      0.63   \n",
       "2767    122.18      6.43     11.50     18.75     12.26     20.67      0.61   \n",
       "3365    102.15      6.01      9.01     17.07      9.72     21.50      0.53   \n",
       "3733    128.14      7.54      9.93     17.52     10.41     26.83      0.58   \n",
       "\n",
       "      Feature7  Feature8  Feature9  ...  Feature1657  Feature1658  \\\n",
       "Id                                  ...                             \n",
       "6309      0.98      0.60      2.27  ...            0            0   \n",
       "7794      1.03      0.65      2.86  ...            0            0   \n",
       "2767      0.99      0.65      2.30  ...            0            0   \n",
       "3365      1.00      0.57      3.07  ...            0            0   \n",
       "3733      1.03      0.61      2.98  ...            0            0   \n",
       "\n",
       "      Feature1659  Feature1660  Feature1661  Feature1662  Feature1663  \\\n",
       "Id                                                                      \n",
       "6309            1            0        -3.64        -3.83        -3.87   \n",
       "7794            0            0        -2.17        -2.20        -2.15   \n",
       "2767            0            0        -3.03        -3.15        -3.15   \n",
       "3365            0            0        -2.24        -2.27        -2.23   \n",
       "3733            0            0        -0.73        -0.58        -0.46   \n",
       "\n",
       "      Feature1664  Feature1665  Target  \n",
       "Id                                      \n",
       "6309         2.68        -2.51     NaN  \n",
       "7794         1.31        -1.48     NaN  \n",
       "2767         1.51        -1.03     NaN  \n",
       "3365         1.26        -0.20     NaN  \n",
       "3733        -0.33         0.54     NaN  \n",
       "\n",
       "[5 rows x 1667 columns]"
      ]
     },
     "execution_count": 7,
     "metadata": {},
     "output_type": "execute_result"
    }
   ],
   "source": [
    "features = [f'Feature{i}' for i in range(dragon_data.shape[1]-1)]\n",
    "features.append('Target')\n",
    "features = pd.Series(features)\n",
    "dragon_data.columns = features\n",
    "dragon_data.index.names = ['Id']\n",
    "print(dragon_data.equals(all_data))\n",
    "dragon_data.head()"
   ]
  },
  {
   "cell_type": "code",
   "execution_count": 8,
   "id": "62882b55",
   "metadata": {
    "scrolled": true
   },
   "outputs": [
    {
     "data": {
      "text/html": [
       "<div>\n",
       "<style scoped>\n",
       "    .dataframe tbody tr th:only-of-type {\n",
       "        vertical-align: middle;\n",
       "    }\n",
       "\n",
       "    .dataframe tbody tr th {\n",
       "        vertical-align: top;\n",
       "    }\n",
       "\n",
       "    .dataframe thead tr th {\n",
       "        text-align: left;\n",
       "    }\n",
       "\n",
       "    .dataframe thead tr:last-of-type th {\n",
       "        text-align: right;\n",
       "    }\n",
       "</style>\n",
       "<table border=\"1\" class=\"dataframe\">\n",
       "  <thead>\n",
       "    <tr>\n",
       "      <th>Id</th>\n",
       "    </tr>\n",
       "  </thead>\n",
       "  <tbody>\n",
       "  </tbody>\n",
       "</table>\n",
       "</div>"
      ],
      "text/plain": [
       "Empty DataFrame\n",
       "Columns: []\n",
       "Index: []"
      ]
     },
     "execution_count": 8,
     "metadata": {},
     "output_type": "execute_result"
    }
   ],
   "source": [
    "dragon_data.compare(all_data)"
   ]
  },
  {
   "cell_type": "code",
   "execution_count": 9,
   "id": "989c2f4c",
   "metadata": {},
   "outputs": [
    {
     "data": {
      "text/plain": [
       "Feature0       160.593521\n",
       "Feature1         6.401521\n",
       "Feature2        15.272239\n",
       "Feature3        26.557896\n",
       "Feature4        16.581788\n",
       "                  ...    \n",
       "Feature1662     -3.614613\n",
       "Feature1663     -3.645241\n",
       "Feature1664      3.700424\n",
       "Feature1665     -1.984430\n",
       "Target           0.693550\n",
       "Length: 1667, dtype: float64"
      ]
     },
     "execution_count": 9,
     "metadata": {},
     "output_type": "execute_result"
    }
   ],
   "source": [
    "dragon_data.mean(axis=0)"
   ]
  },
  {
   "cell_type": "code",
   "execution_count": 10,
   "id": "285ea11a",
   "metadata": {},
   "outputs": [
    {
     "data": {
      "text/plain": [
       "Feature0       160.593521\n",
       "Feature1         6.401521\n",
       "Feature2        15.272239\n",
       "Feature3        26.557896\n",
       "Feature4        16.581788\n",
       "                  ...    \n",
       "Feature1662     -3.614613\n",
       "Feature1663     -3.645241\n",
       "Feature1664      3.700424\n",
       "Feature1665     -1.984430\n",
       "Target           0.693550\n",
       "Length: 1667, dtype: float64"
      ]
     },
     "execution_count": 10,
     "metadata": {},
     "output_type": "execute_result"
    }
   ],
   "source": [
    "all_data.mean(axis=0)"
   ]
  },
  {
   "cell_type": "markdown",
   "id": "97031b83",
   "metadata": {},
   "source": [
    "## 0.3 Extract modelling DataFrame\n",
    "\n",
    "The modelling goal concerns only the lines in all_data where the Target column is not null."
   ]
  },
  {
   "cell_type": "code",
   "execution_count": 11,
   "id": "26f53e53",
   "metadata": {
    "scrolled": true
   },
   "outputs": [
    {
     "name": "stdout",
     "output_type": "stream",
     "text": [
      "Sub data shape: (8, 1667)\n",
      "All data shape: (4524, 1667)\n",
      "All data with non-null Target shape: (8, 1667)\n"
     ]
    },
    {
     "data": {
      "text/html": [
       "<div>\n",
       "<style scoped>\n",
       "    .dataframe tbody tr th:only-of-type {\n",
       "        vertical-align: middle;\n",
       "    }\n",
       "\n",
       "    .dataframe tbody tr th {\n",
       "        vertical-align: top;\n",
       "    }\n",
       "\n",
       "    .dataframe thead th {\n",
       "        text-align: right;\n",
       "    }\n",
       "</style>\n",
       "<table border=\"1\" class=\"dataframe\">\n",
       "  <thead>\n",
       "    <tr style=\"text-align: right;\">\n",
       "      <th></th>\n",
       "      <th>Feature0</th>\n",
       "      <th>Feature1</th>\n",
       "      <th>Feature2</th>\n",
       "      <th>Feature3</th>\n",
       "      <th>Feature4</th>\n",
       "      <th>Feature5</th>\n",
       "      <th>Feature6</th>\n",
       "      <th>Feature7</th>\n",
       "      <th>Feature8</th>\n",
       "      <th>Feature9</th>\n",
       "      <th>...</th>\n",
       "      <th>Feature1657</th>\n",
       "      <th>Feature1658</th>\n",
       "      <th>Feature1659</th>\n",
       "      <th>Feature1660</th>\n",
       "      <th>Feature1661</th>\n",
       "      <th>Feature1662</th>\n",
       "      <th>Feature1663</th>\n",
       "      <th>Feature1664</th>\n",
       "      <th>Feature1665</th>\n",
       "      <th>Target</th>\n",
       "    </tr>\n",
       "    <tr>\n",
       "      <th>Id</th>\n",
       "      <th></th>\n",
       "      <th></th>\n",
       "      <th></th>\n",
       "      <th></th>\n",
       "      <th></th>\n",
       "      <th></th>\n",
       "      <th></th>\n",
       "      <th></th>\n",
       "      <th></th>\n",
       "      <th></th>\n",
       "      <th></th>\n",
       "      <th></th>\n",
       "      <th></th>\n",
       "      <th></th>\n",
       "      <th></th>\n",
       "      <th></th>\n",
       "      <th></th>\n",
       "      <th></th>\n",
       "      <th></th>\n",
       "      <th></th>\n",
       "      <th></th>\n",
       "    </tr>\n",
       "  </thead>\n",
       "  <tbody>\n",
       "    <tr>\n",
       "      <th>5605</th>\n",
       "      <td>116.18</td>\n",
       "      <td>5.81</td>\n",
       "      <td>10.61</td>\n",
       "      <td>19.96</td>\n",
       "      <td>11.48</td>\n",
       "      <td>20.67</td>\n",
       "      <td>0.53</td>\n",
       "      <td>1.00</td>\n",
       "      <td>0.57</td>\n",
       "      <td>2.58</td>\n",
       "      <td>...</td>\n",
       "      <td>0</td>\n",
       "      <td>0</td>\n",
       "      <td>0</td>\n",
       "      <td>0</td>\n",
       "      <td>-2.56</td>\n",
       "      <td>-2.62</td>\n",
       "      <td>-2.60</td>\n",
       "      <td>1.80</td>\n",
       "      <td>-0.99</td>\n",
       "      <td>0.6824</td>\n",
       "    </tr>\n",
       "    <tr>\n",
       "      <th>5637</th>\n",
       "      <td>144.24</td>\n",
       "      <td>5.55</td>\n",
       "      <td>13.81</td>\n",
       "      <td>25.72</td>\n",
       "      <td>15.00</td>\n",
       "      <td>23.67</td>\n",
       "      <td>0.53</td>\n",
       "      <td>0.99</td>\n",
       "      <td>0.58</td>\n",
       "      <td>2.37</td>\n",
       "      <td>...</td>\n",
       "      <td>0</td>\n",
       "      <td>0</td>\n",
       "      <td>0</td>\n",
       "      <td>0</td>\n",
       "      <td>-3.14</td>\n",
       "      <td>-3.28</td>\n",
       "      <td>-3.29</td>\n",
       "      <td>2.92</td>\n",
       "      <td>-2.09</td>\n",
       "      <td>0.7372</td>\n",
       "    </tr>\n",
       "    <tr>\n",
       "      <th>6187</th>\n",
       "      <td>130.21</td>\n",
       "      <td>5.66</td>\n",
       "      <td>12.21</td>\n",
       "      <td>22.84</td>\n",
       "      <td>13.24</td>\n",
       "      <td>22.50</td>\n",
       "      <td>0.53</td>\n",
       "      <td>0.99</td>\n",
       "      <td>0.58</td>\n",
       "      <td>2.50</td>\n",
       "      <td>...</td>\n",
       "      <td>0</td>\n",
       "      <td>0</td>\n",
       "      <td>0</td>\n",
       "      <td>0</td>\n",
       "      <td>-2.86</td>\n",
       "      <td>-2.96</td>\n",
       "      <td>-2.96</td>\n",
       "      <td>2.36</td>\n",
       "      <td>-1.80</td>\n",
       "      <td>0.7479</td>\n",
       "    </tr>\n",
       "    <tr>\n",
       "      <th>7891</th>\n",
       "      <td>136.26</td>\n",
       "      <td>5.24</td>\n",
       "      <td>14.78</td>\n",
       "      <td>25.07</td>\n",
       "      <td>16.09</td>\n",
       "      <td>16.58</td>\n",
       "      <td>0.57</td>\n",
       "      <td>0.96</td>\n",
       "      <td>0.62</td>\n",
       "      <td>1.66</td>\n",
       "      <td>...</td>\n",
       "      <td>0</td>\n",
       "      <td>0</td>\n",
       "      <td>0</td>\n",
       "      <td>0</td>\n",
       "      <td>-4.26</td>\n",
       "      <td>-4.53</td>\n",
       "      <td>-4.60</td>\n",
       "      <td>3.66</td>\n",
       "      <td>-2.94</td>\n",
       "      <td>0.2584</td>\n",
       "    </tr>\n",
       "    <tr>\n",
       "      <th>623</th>\n",
       "      <td>100.18</td>\n",
       "      <td>5.27</td>\n",
       "      <td>10.10</td>\n",
       "      <td>18.63</td>\n",
       "      <td>11.02</td>\n",
       "      <td>16.50</td>\n",
       "      <td>0.53</td>\n",
       "      <td>0.98</td>\n",
       "      <td>0.58</td>\n",
       "      <td>2.36</td>\n",
       "      <td>...</td>\n",
       "      <td>0</td>\n",
       "      <td>0</td>\n",
       "      <td>0</td>\n",
       "      <td>0</td>\n",
       "      <td>-2.62</td>\n",
       "      <td>-2.69</td>\n",
       "      <td>-2.67</td>\n",
       "      <td>1.69</td>\n",
       "      <td>-0.79</td>\n",
       "      <td>0.5759</td>\n",
       "    </tr>\n",
       "    <tr>\n",
       "      <th>3503</th>\n",
       "      <td>192.33</td>\n",
       "      <td>5.66</td>\n",
       "      <td>19.49</td>\n",
       "      <td>33.16</td>\n",
       "      <td>21.07</td>\n",
       "      <td>29.75</td>\n",
       "      <td>0.57</td>\n",
       "      <td>0.98</td>\n",
       "      <td>0.62</td>\n",
       "      <td>2.13</td>\n",
       "      <td>...</td>\n",
       "      <td>1</td>\n",
       "      <td>0</td>\n",
       "      <td>1</td>\n",
       "      <td>0</td>\n",
       "      <td>-3.94</td>\n",
       "      <td>-4.17</td>\n",
       "      <td>-4.23</td>\n",
       "      <td>4.11</td>\n",
       "      <td>-3.27</td>\n",
       "      <td>0.7274</td>\n",
       "    </tr>\n",
       "    <tr>\n",
       "      <th>3837</th>\n",
       "      <td>136.16</td>\n",
       "      <td>7.56</td>\n",
       "      <td>11.41</td>\n",
       "      <td>18.19</td>\n",
       "      <td>11.95</td>\n",
       "      <td>25.83</td>\n",
       "      <td>0.63</td>\n",
       "      <td>1.01</td>\n",
       "      <td>0.66</td>\n",
       "      <td>2.58</td>\n",
       "      <td>...</td>\n",
       "      <td>0</td>\n",
       "      <td>0</td>\n",
       "      <td>0</td>\n",
       "      <td>0</td>\n",
       "      <td>-2.66</td>\n",
       "      <td>-2.74</td>\n",
       "      <td>-2.72</td>\n",
       "      <td>1.64</td>\n",
       "      <td>-1.90</td>\n",
       "      <td>1.2339</td>\n",
       "    </tr>\n",
       "    <tr>\n",
       "      <th>4714</th>\n",
       "      <td>116.18</td>\n",
       "      <td>5.81</td>\n",
       "      <td>10.61</td>\n",
       "      <td>19.96</td>\n",
       "      <td>11.48</td>\n",
       "      <td>20.67</td>\n",
       "      <td>0.53</td>\n",
       "      <td>1.00</td>\n",
       "      <td>0.57</td>\n",
       "      <td>2.58</td>\n",
       "      <td>...</td>\n",
       "      <td>0</td>\n",
       "      <td>0</td>\n",
       "      <td>0</td>\n",
       "      <td>0</td>\n",
       "      <td>-2.56</td>\n",
       "      <td>-2.62</td>\n",
       "      <td>-2.60</td>\n",
       "      <td>1.84</td>\n",
       "      <td>-1.31</td>\n",
       "      <td>0.5853</td>\n",
       "    </tr>\n",
       "  </tbody>\n",
       "</table>\n",
       "<p>8 rows × 1667 columns</p>\n",
       "</div>"
      ],
      "text/plain": [
       "      Feature0  Feature1  Feature2  Feature3  Feature4  Feature5  Feature6  \\\n",
       "Id                                                                           \n",
       "5605    116.18      5.81     10.61     19.96     11.48     20.67      0.53   \n",
       "5637    144.24      5.55     13.81     25.72     15.00     23.67      0.53   \n",
       "6187    130.21      5.66     12.21     22.84     13.24     22.50      0.53   \n",
       "7891    136.26      5.24     14.78     25.07     16.09     16.58      0.57   \n",
       "623     100.18      5.27     10.10     18.63     11.02     16.50      0.53   \n",
       "3503    192.33      5.66     19.49     33.16     21.07     29.75      0.57   \n",
       "3837    136.16      7.56     11.41     18.19     11.95     25.83      0.63   \n",
       "4714    116.18      5.81     10.61     19.96     11.48     20.67      0.53   \n",
       "\n",
       "      Feature7  Feature8  Feature9  ...  Feature1657  Feature1658  \\\n",
       "Id                                  ...                             \n",
       "5605      1.00      0.57      2.58  ...            0            0   \n",
       "5637      0.99      0.58      2.37  ...            0            0   \n",
       "6187      0.99      0.58      2.50  ...            0            0   \n",
       "7891      0.96      0.62      1.66  ...            0            0   \n",
       "623       0.98      0.58      2.36  ...            0            0   \n",
       "3503      0.98      0.62      2.13  ...            1            0   \n",
       "3837      1.01      0.66      2.58  ...            0            0   \n",
       "4714      1.00      0.57      2.58  ...            0            0   \n",
       "\n",
       "      Feature1659  Feature1660  Feature1661  Feature1662  Feature1663  \\\n",
       "Id                                                                      \n",
       "5605            0            0        -2.56        -2.62        -2.60   \n",
       "5637            0            0        -3.14        -3.28        -3.29   \n",
       "6187            0            0        -2.86        -2.96        -2.96   \n",
       "7891            0            0        -4.26        -4.53        -4.60   \n",
       "623             0            0        -2.62        -2.69        -2.67   \n",
       "3503            1            0        -3.94        -4.17        -4.23   \n",
       "3837            0            0        -2.66        -2.74        -2.72   \n",
       "4714            0            0        -2.56        -2.62        -2.60   \n",
       "\n",
       "      Feature1664  Feature1665  Target  \n",
       "Id                                      \n",
       "5605         1.80        -0.99  0.6824  \n",
       "5637         2.92        -2.09  0.7372  \n",
       "6187         2.36        -1.80  0.7479  \n",
       "7891         3.66        -2.94  0.2584  \n",
       "623          1.69        -0.79  0.5759  \n",
       "3503         4.11        -3.27  0.7274  \n",
       "3837         1.64        -1.90  1.2339  \n",
       "4714         1.84        -1.31  0.5853  \n",
       "\n",
       "[8 rows x 1667 columns]"
      ]
     },
     "execution_count": 11,
     "metadata": {},
     "output_type": "execute_result"
    }
   ],
   "source": [
    "# Get data with target value\n",
    "target_data = all_data[all_data.Target.notnull()]\n",
    "\n",
    "# Sanity check\n",
    "print(f'Sub data shape: {target_data.shape}')\n",
    "print(f'All data shape: {all_data.shape}')\n",
    "print(f'All data with non-null Target shape: {all_data[all_data.Target.notnull()].shape}')\n",
    "all_data[all_data.Target.notnull()].head(8)\n"
   ]
  },
  {
   "cell_type": "markdown",
   "id": "29cce81d",
   "metadata": {},
   "source": [
    "# 1. Data exploration\n",
    "\n",
    "## 1.1 Feature dropping\n",
    "\n",
    "Given the very large number of features, visualisation is difficult or would be overly lengthy. However, some features can already be dropped at this stage:\n",
    "* Any feature that is null in the sub dataset can be removed from datasets since it will bring no information for the model."
   ]
  },
  {
   "cell_type": "code",
   "execution_count": 12,
   "id": "feafbac2",
   "metadata": {},
   "outputs": [
    {
     "data": {
      "text/plain": [
       "Feature1545    8\n",
       "Feature1580    8\n",
       "Feature1605    8\n",
       "Feature1613    8\n",
       "Feature1614    8\n",
       "Feature1621    8\n",
       "Feature1622    8\n",
       "Feature1623    8\n",
       "Feature1624    8\n",
       "Feature1625    8\n",
       "Feature1626    8\n",
       "Feature1627    8\n",
       "Feature1628    8\n",
       "Feature1629    8\n",
       "Feature1630    8\n",
       "Feature1631    8\n",
       "Feature1632    8\n",
       "Feature1633    8\n",
       "Feature1634    8\n",
       "dtype: int64"
      ]
     },
     "execution_count": 12,
     "metadata": {},
     "output_type": "execute_result"
    }
   ],
   "source": [
    "# Check missingness in target_data\n",
    "target_data.isnull().sum()[target_data.isnull().sum() > 0]"
   ]
  },
  {
   "cell_type": "code",
   "execution_count": 13,
   "id": "de9cb79b",
   "metadata": {},
   "outputs": [],
   "source": [
    "# Check for features that are missing\n",
    "for feature in target_data.columns:\n",
    "    if target_data[feature].isnull().sum() > 0:\n",
    "        # Remove feature from both datasets\n",
    "        target_data.drop(feature, axis=1, inplace=True)\n",
    "        all_data.drop(feature, axis=1, inplace=True)"
   ]
  },
  {
   "cell_type": "code",
   "execution_count": 14,
   "id": "fc95e1c7",
   "metadata": {},
   "outputs": [
    {
     "data": {
      "text/plain": [
       "Series([], dtype: int64)"
      ]
     },
     "execution_count": 14,
     "metadata": {},
     "output_type": "execute_result"
    }
   ],
   "source": [
    "# Recheck missingness after feature deletion\n",
    "target_data.isnull().sum()[target_data.isnull().sum() > 0]"
   ]
  },
  {
   "cell_type": "code",
   "execution_count": 15,
   "id": "4b35e523",
   "metadata": {
    "scrolled": true
   },
   "outputs": [
    {
     "data": {
      "text/plain": [
       "Feature279      27\n",
       "Feature280      27\n",
       "Feature281      27\n",
       "Feature282      27\n",
       "Feature283      27\n",
       "Feature284      50\n",
       "Feature285      50\n",
       "Feature286      50\n",
       "Feature287      50\n",
       "Feature288      50\n",
       "Feature289     101\n",
       "Feature290     101\n",
       "Feature291     101\n",
       "Feature292     101\n",
       "Feature293     101\n",
       "Target        4516\n",
       "dtype: int64"
      ]
     },
     "execution_count": 15,
     "metadata": {},
     "output_type": "execute_result"
    }
   ],
   "source": [
    "# check all_data missingness after feature deletion\n",
    "all_data.isnull().sum()[all_data.isnull().sum() > 0]"
   ]
  },
  {
   "cell_type": "markdown",
   "id": "92beccf8",
   "metadata": {},
   "source": [
    "## 1.2 Target data\n",
    "\n",
    "A cursory exploration of the target values can be performed at this stage. Selected features will be explored visually after data cleaning. The targets provided are quite similar, between 0.5 and 0.8, except for two samples for which they are significantly different, around 0.3 and 1.2 respectively."
   ]
  },
  {
   "cell_type": "code",
   "execution_count": 16,
   "id": "4c9a5985",
   "metadata": {
    "scrolled": true
   },
   "outputs": [
    {
     "data": {
      "image/png": "[encoded data removed]",
      "text/plain": [
       "<Figure size 432x288 with 1 Axes>"
      ]
     },
     "metadata": {
      "needs_background": "light"
     },
     "output_type": "display_data"
    }
   ],
   "source": [
    "# Check distribution of available targets\n",
    "sns.histplot(data=target_data, x='Target')\n",
    "plt.show()"
   ]
  },
  {
   "cell_type": "markdown",
   "id": "b38fbdab",
   "metadata": {},
   "source": [
    "# 2. Data Cleaning\n",
    "\n",
    "Data cleaning can include several steps. Each of these steps is tackled sequentially.\n",
    "* Data Correction\n",
    "* Data Completion\n",
    "* Data Creation\n",
    "* Data Conversion\n",
    "\n",
    "## 2.1 Data Correction\n",
    "\n",
    "Since the dataset provided was extracted from a single database, it is assumed there is no further missing data than the entries that were flagged as \"#N/A\" and converted automatically to np.nan by pd.read_csv. Any sparse features for which most values are 0 will be assumed to be correct (it will be assumed that 0 is an actual value and not a placeholder for missing data). No Data Correction is therefore required for this dataset.\n",
    "\n",
    "## 2.2 Data Completion\n",
    "\n",
    "After dropping features for which all values are null in the sub_data dataset (see step 1.1), there only remain missing values in the all_data dataset. Since this dataset is less critical than sub_data, these values will be imputed using a simple median imputer as to not assume the distribution of the features."
   ]
  },
  {
   "cell_type": "code",
   "execution_count": 17,
   "id": "f5e7c4bb",
   "metadata": {},
   "outputs": [
    {
     "data": {
      "text/plain": [
       "Series([], dtype: int64)"
      ]
     },
     "execution_count": 17,
     "metadata": {},
     "output_type": "execute_result"
    }
   ],
   "source": [
    "# Get numerical features of all_data\n",
    "numericals = all_data.select_dtypes(include=np.number).columns.to_list()\n",
    "\n",
    "# Apply SimpleImputer to numerical features in all_data\n",
    "si = SimpleImputer(strategy='median', copy=True)\n",
    "all_data[numericals] = si.fit_transform(all_data[numericals])\n",
    "\n",
    "# Check missingness after imputing\n",
    "all_data.isnull().sum()[all_data.isnull().sum() > 0]"
   ]
  },
  {
   "cell_type": "markdown",
   "id": "c439977d",
   "metadata": {},
   "source": [
    "## 2.3 Data Creation\n",
    "\n",
    "Given the large number of features, no new features will be created from the data, at least at this point. Feature reduction techniques will be used further in the project to reduce the dimensionality of the problem.\n",
    "\n",
    "## 2.4 Data Conversion\n",
    "\n",
    "Some models only accept numerical parameters as input, and any categorical or boolean features should then be converted to numeric features, e.g. using pd.get_dummies. As can be seen below, there are no non-numeric predictors in the dataset."
   ]
  },
  {
   "cell_type": "code",
   "execution_count": 18,
   "id": "52ba70c1",
   "metadata": {},
   "outputs": [
    {
     "name": "stdout",
     "output_type": "stream",
     "text": [
      "[]\n"
     ]
    }
   ],
   "source": [
    "# Check non-numeric columns in all_data\n",
    "non_numeric = all_data.select_dtypes(exclude=np.number).columns.to_list()\n",
    "print(non_numeric)"
   ]
  },
  {
   "cell_type": "markdown",
   "id": "715b87c1",
   "metadata": {},
   "source": [
    "# 3. Visual exploration\n",
    "\n",
    "Visual exploration was performed as part of this project. However, visual exploration requires having knowledge on the features, targets and samples which is not provided in this anonymised dataset. For this reason, this section is removed from this public notebook.\n",
    "\n",
    "Visual exploration included scatter plots and KDE plots of selected features expected to have an impact on the target value to assess whether relations were already visible."
   ]
  },
  {
   "cell_type": "markdown",
   "id": "dbdab414",
   "metadata": {},
   "source": [
    "# ----------------------\n",
    "# Modelling strategy\n",
    "# ----------------------\n",
    "\n",
    "## On fitting with a large number of parameters\n",
    "\n",
    "In this problem, we have 8 data points, and over 1600 possible predictors: just like it is possible to fit any curve by increasing the order of the equation (and thus the number of parameters), we could fit this dataset almost to perfection by tuning and optimising the 1600 parameters we have at our disposal, the weights of each predictor. However, such a model, while extremely efficient at reproducing measured data, would perform very poorly when applied for prediction of the target value for new samples, and would furthermore not bring any explainability. This is not a requirement of the current problem, but it is a direct result of the lack of meaning this model would have, just like a 1600th order polynomial.\n",
    "\n",
    "The best model is generally the simplest model that manages to capture the true variability in the data, without capturing the noise. This could be measurement uncertainty, personal preferences, ... Depending on the application.\n",
    "\n",
    "As a result, the goal of this problem should not be to fit as best as possible, but rather to find the simplest model that is able to capture its variance without its very specific particularities. Aka, avoid overfitting.\n",
    "\n",
    "## On overfitting in small samples\n",
    "\n",
    "This being said, it is highly likely that any model we obtain would be overfit because we have only 8 data points. In addition, along these data points, we have half of the samples that are very similar, and the other half that each have their own specifics \\[Not shown part of the visual exploration of section 3\\]. Furthermore, two of the samples exhibit what we could call at this scale outlier targets. Therefore, even using cross validation means any model not trained to these specifics will be very poor at predicting their targets, but most models should be able to predict the targets of the 4 similar samples.\n",
    "\n",
    "If the dimensionality of the problem is its challenge, its limitation is sampling. A model can only perform well if it had been fitted, or trained, using a sample that is representative of the population. Here, this is certainly not the case as the full database (what we could consider the population in this case) contains over 4500 \"lines\" of predictors.\n",
    "\n",
    "In conclusion, any model we build will be overfit to the samples compared to unseen samples, and the goal of the assignment cannot be predicting new target values because of this.\n",
    "\n",
    "## On not using train_test_split\n",
    "\n",
    "Given the small size and more importantly the diversity of the samples contained in the dataset, the dataset will not be split for this modelling exercise, e.g. using sklearn's train_test_split function. The reasoning behind this take is take is that every sample in the dataset is valuable for building the model since in most cases only 1 of the samples contains certain peculiarities.\n",
    "\n",
    "## On the metric used for model performance\n",
    "\n",
    "Since train_test_split will not be used, a different metric for model selection is used: the mean absolute error resulting from 8-fold cross-validation of each model using sklearn's cross_val_score. Computing 8-fold cross-validation on a sample size of 8 comes down to fitting the model using 7 out of the 8 samples 8 times, each time leaving out a different sample and calculating the absolute error on the prediction for the left-out sample. The mean of these 8 mean absolute errors is taken as an indicator of the ability of the model to have captured most of the variance provided in the sample without overfitting the pecularities of the 8 specific ones provided.\n",
    "\n",
    "# 4. Baseline model\n",
    "\n",
    "As a reference standard, a baseline model is fitted using all features. Since the target is a continuous numerical value, linear regression is used as a baseline model. As discussed above, this model will be severely overfitted to the data.\n",
    "\n",
    "## 4.1 DataFrame formatting for modelling\n",
    "\n",
    "Before fitting, the data is transformed to be ready for modelling.\n",
    "* The X DataFrame contains all predictors, i.e. target_data\n",
    "* The y DataFrame contains the target value."
   ]
  },
  {
   "cell_type": "code",
   "execution_count": 19,
   "id": "31cf110c",
   "metadata": {},
   "outputs": [],
   "source": [
    "X = target_data.drop(['Target'], axis=1, inplace=False)\n",
    "y = target_data.Target\n",
    "\n",
    "# Reproduce sample order compared to uncensored dataset for robustness\n",
    "X = X.reindex(index=[3837, 6187, 5637, 3503, 5605, 4714, 623, 7891])\n",
    "y = y.reindex(index=[3837, 6187, 5637, 3503, 5605, 4714, 623, 7891])"
   ]
  },
  {
   "cell_type": "markdown",
   "id": "0019619c",
   "metadata": {},
   "source": [
    "Eech model will follow the same structure:\n",
    "* Initialisation of the different tools\n",
    "* Fitting\n",
    "* Predicting\n",
    "* Computing metrics (model MAE and 8-fold cross-validation MAE)\n",
    "\n",
    "## 4.2 Simple linear regression\n",
    "\n",
    "As expected, given the large number of predictors provided, the prediction is practically exact. It is highly likely that such a model is severely overfitted to the 8 examples provided. This is confirmed by the very low model MAE and the very high CV average MAE obtained of roughly 0.78."
   ]
  },
  {
   "cell_type": "code",
   "execution_count": 20,
   "id": "3d3c88d0",
   "metadata": {},
   "outputs": [
    {
     "name": "stdout",
     "output_type": "stream",
     "text": [
      "            MAE CV_MAE\n",
      "model                 \n",
      "lr     9.58e-16   0.78\n"
     ]
    }
   ],
   "source": [
    "# Initialisation\n",
    "name_lr = 'lr'\n",
    "lr = LinearRegression()\n",
    "\n",
    "# Fitting\n",
    "lr.fit(X, y)\n",
    "\n",
    "# Predicting\n",
    "preds = lr.predict(X)\n",
    "\n",
    "# Metrics - MAE\n",
    "mae_lr = mean_absolute_error(y, preds)\n",
    "\n",
    "# Metrics - CV\n",
    "cv_results = cross_val_score(lr, X, y, cv=8, scoring='neg_mean_absolute_error')\n",
    "cv_lr = abs(cv_results).mean()\n",
    "\n",
    "# Format metrics\n",
    "metrics_lr = np.array([name_lr,'{:0.2e}'.format(mae_lr), '{:.2f}'.format(cv_lr)]).reshape((1, 3))\n",
    "\n",
    "# Combine metrics in single df\n",
    "metrics = pd.DataFrame(metrics_lr, columns=['model', 'MAE', 'CV_MAE']).set_index('model')\n",
    "\n",
    "# Show results\n",
    "print(metrics)"
   ]
  },
  {
   "cell_type": "markdown",
   "id": "9d76cb50",
   "metadata": {},
   "source": [
    "## 4.3 Standardised simple linear regression\n",
    "\n",
    "A StandardScaler is also used to normalize feature mean and standard deviation since linear regression models tend to be influenced by features on differring scales. Using the StandardScaler before simple linear regression significantly improves the CV MAE (by about twofold). However, the model remain severely overfitted since it still uses all predictors."
   ]
  },
  {
   "cell_type": "code",
   "execution_count": 21,
   "id": "de5a220f",
   "metadata": {
    "scrolled": true
   },
   "outputs": [
    {
     "name": "stdout",
     "output_type": "stream",
     "text": [
      "             MAE CV_MAE\n",
      "model                  \n",
      "lr      9.58e-16   0.78\n",
      "lr_std  2.43e-16   0.32\n"
     ]
    }
   ],
   "source": [
    "# Initialisation\n",
    "name_lr_std = 'lr_std'\n",
    "ss = StandardScaler()\n",
    "lr_std = LinearRegression()\n",
    "pipeline = Pipeline([('scaler', ss), ('linear_regression', lr_std)])\n",
    "\n",
    "# Fitting\n",
    "pipeline.fit(X, y)\n",
    "\n",
    "# Predicting\n",
    "preds_std = pipeline.predict(X)\n",
    "\n",
    "# Metrics - MAE\n",
    "mae_lr_std = mean_absolute_error(y, preds_std)\n",
    "\n",
    "# Metrics - CV\n",
    "cv_results_std = cross_val_score(pipeline, X, y, cv=8, scoring='neg_mean_absolute_error')\n",
    "cv_lr_std = abs(cv_results_std).mean()\n",
    "\n",
    "# Format metrics\n",
    "metrics_lr_std = np.array([name_lr_std,'{:0.2e}'.format(mae_lr_std), '{:.2f}'.format(cv_lr_std)]).reshape((1, 3))\n",
    "\n",
    "# Combine metrics in single df\n",
    "if name_lr_std not in metrics.index:\n",
    "    metrics = pd.concat([metrics, pd.DataFrame(metrics_lr_std, columns=['model', 'MAE', 'CV_MAE']).set_index('model')],\n",
    "                        axis=0)\n",
    "\n",
    "# Show results\n",
    "print(metrics)"
   ]
  },
  {
   "cell_type": "markdown",
   "id": "c2dc9300",
   "metadata": {},
   "source": [
    "## 4.4 Most important features without feature selection\n",
    "\n",
    "Even though all descriptors were used in this baseline model, we can already get an idea of which features played a major role by examining the model coefficients. Note that we do not find any of the features we intuitively thought would be important in these top features \\[Features were anonymised here, their interpretation is kept for reference\\]."
   ]
  },
  {
   "cell_type": "code",
   "execution_count": 22,
   "id": "7a623824",
   "metadata": {},
   "outputs": [
    {
     "name": "stdout",
     "output_type": "stream",
     "text": [
      "            lr       lr_std\n",
      "0   Feature185     Feature5\n",
      "1    Feature66   Feature875\n",
      "2    Feature88   Feature815\n",
      "3    Feature77   Feature755\n",
      "4    Feature64   Feature429\n",
      "5    Feature86   Feature845\n",
      "6   Feature116   Feature278\n",
      "7   Feature692  Feature1287\n",
      "8   Feature691   Feature785\n",
      "9    Feature80     Feature4\n",
      "10  Feature667   Feature414\n",
      "11  Feature689   Feature399\n",
      "12  Feature755  Feature1105\n",
      "13  Feature597  Feature1285\n",
      "14  Feature845  Feature1143\n",
      "15  Feature595  Feature1061\n",
      "16  Feature754   Feature998\n",
      "17  Feature255  Feature1094\n",
      "18  Feature750   Feature369\n",
      "19  Feature844   Feature377\n"
     ]
    }
   ],
   "source": [
    "# Create DataFrame containing coefficients\n",
    "coeffs = pd.DataFrame(zip(lr.coef_, lr_std.coef_),\n",
    "                      columns=['Coefficients_lr', 'Coefficients_lr_std'],\n",
    "                      index=X.columns)\n",
    "\n",
    "# Get feature importance\n",
    "coeffs['AbsCoefficients_lr'] = abs(coeffs.Coefficients_lr)\n",
    "coeffs['AbsCoefficients_lr_std'] = abs(coeffs.Coefficients_lr_std)\n",
    "\n",
    "# Get top features for both models\n",
    "lr_important_features = coeffs.sort_values(by='AbsCoefficients_lr', ascending=False).head(20).index\n",
    "lr_std_important_features = coeffs.sort_values(by='AbsCoefficients_lr_std', ascending=False).head(20).index\n",
    "\n",
    "# Create DataFrame of top features\n",
    "important_features = pd.DataFrame(zip(lr_important_features, lr_std_important_features),\n",
    "                                  columns=['lr', 'lr_std'])\n",
    "\n",
    "print(important_features)"
   ]
  },
  {
   "cell_type": "markdown",
   "id": "30a84f83",
   "metadata": {},
   "source": [
    "# 5. Dimensionality reduction"
   ]
  },
  {
   "cell_type": "markdown",
   "id": "b40bfb9a",
   "metadata": {},
   "source": [
    "As discussed above, the goal of the exercise is to find the \"best simplest model\" to fit the targets. To that objective, two dimensionality reduction strategies will be explored: Principal Components Analysis (PCA) for performing feature reduction, and penalized regression using LASSO for feature selection."
   ]
  },
  {
   "cell_type": "markdown",
   "id": "c6230dbd",
   "metadata": {},
   "source": [
    "## 5.1 PCA\n",
    "\n",
    "### Exploratory PCA\n",
    "\n",
    "First, the data is scaled and transformed using PCA to determine how many Principal Components (PC) capture most of the variability.\n",
    "\n",
    "The StandardScaler is used since PCA is very sensitive to feature scale. Using PCA to perform dimensionality reduction on the target dataset (containing values for 8 samples) shows that >95% of the variance in the data can be captured by the 5 first principal components, while the 4 first components capture >90% of the variance in the dataset."
   ]
  },
  {
   "cell_type": "code",
   "execution_count": 23,
   "id": "10109fdf",
   "metadata": {
    "scrolled": true
   },
   "outputs": [
    {
     "name": "stdout",
     "output_type": "stream",
     "text": [
      "% of variance captured cumulatively by including more principal components:\n",
      " [0.43 0.67 0.83 0.91 0.96 0.98 0.99 0.99]\n"
     ]
    },
    {
     "data": {
      "image/png": "[encoded data removed]",
      "text/plain": [
       "<Figure size 432x288 with 1 Axes>"
      ]
     },
     "metadata": {
      "needs_background": "light"
     },
     "output_type": "display_data"
    }
   ],
   "source": [
    "# Explore PCA: scale the data and create 8 principal components using PCA\n",
    "X_scaled = StandardScaler().fit_transform(X)\n",
    "\n",
    "# Fit maximum number of PCs\n",
    "pca_expl = PCA(n_components=X_scaled.shape[0])\n",
    "pca_features = pca_expl.fit_transform(X_scaled)\n",
    "\n",
    "# Print cumulative sum of relative importance\n",
    "print('% of variance captured cumulatively by including more principal components:\\n',\n",
    "      (pca_expl.explained_variance_/pca_expl.explained_variance_.sum()).round(2).cumsum())\n",
    "\n",
    "# Plot relative variance explained by each added PCA feature and Pareto\n",
    "plt.bar(range(pca_expl.n_components_), pca_expl.explained_variance_/pca_expl.explained_variance_.sum())\n",
    "plt.plot((pca_expl.explained_variance_/pca_expl.explained_variance_.sum()).cumsum(), color='green')\n",
    "plt.axhline(y=.95, color='red', linestyle='--', linewidth=1)\n",
    "plt.axvline(x=4, color='red', linestyle='--', linewidth=1)\n",
    "plt.title('Principal Component feature importance')\n",
    "plt.ylabel('Relative variance')\n",
    "plt.xlabel('Principal Component')\n",
    "plt.show()"
   ]
  },
  {
   "cell_type": "markdown",
   "id": "31c34450",
   "metadata": {},
   "source": [
    "### Linear regression with 5 principal components\n",
    "\n",
    "The result from the linear regression applying PCA wth 5 principal components is still very good at fitting the 8 targets provided, with a mean absolute target difference of 0.03. Cross-validation does not show significant improvement over the scaled simple linear regression.\n",
    "\n",
    "The downside of using PCA is the loss of explainability of the observed relations, the most important features are therefore not explored as they were in the simple linear regression model."
   ]
  },
  {
   "cell_type": "code",
   "execution_count": 24,
   "id": "9256514b",
   "metadata": {},
   "outputs": [
    {
     "name": "stdout",
     "output_type": "stream",
     "text": [
      "             MAE CV_MAE\n",
      "model                  \n",
      "lr      9.58e-16   0.78\n",
      "lr_std  2.43e-16   0.32\n",
      "lr_pca  2.94e-02   0.31\n"
     ]
    }
   ],
   "source": [
    "# Initialisation\n",
    "name_pca = 'lr_pca'\n",
    "ss_pca = StandardScaler()\n",
    "pca = PCA(n_components=5) # 5 components capture 95% of variance, see PCA exploration above\n",
    "lr_pca = LinearRegression()\n",
    "pipeline_pca = Pipeline([('scaler', ss_pca), ('pca', pca), ('linear_regression', lr_pca)])\n",
    "\n",
    "# Fitting\n",
    "pipeline_pca.fit(X, y)\n",
    "\n",
    "# Predicting\n",
    "preds_pca = pipeline_pca.predict(X)\n",
    "\n",
    "# Metrics - MAE\n",
    "mae_pca = mean_absolute_error(y, preds_pca)\n",
    "\n",
    "# Metrics - CV\n",
    "cv_results_pca = cross_val_score(pipeline_pca, X, y, cv=8, scoring='neg_mean_absolute_error')\n",
    "cv_pca = abs(cv_results_pca).mean()\n",
    "\n",
    "# Format metrics\n",
    "metrics_pca = np.array([name_pca,'{:0.2e}'.format(mae_pca), '{:.2f}'.format(cv_pca)]).reshape((1, 3))\n",
    "\n",
    "# Combine metrics in single df\n",
    "if name_pca not in metrics.index:\n",
    "    metrics = pd.concat([metrics, pd.DataFrame(metrics_pca, columns=['model', 'MAE', 'CV_MAE']).set_index('model')],\n",
    "                        axis=0)\n",
    "\n",
    "# Show results\n",
    "print(metrics)"
   ]
  },
  {
   "cell_type": "markdown",
   "id": "78d2a99d",
   "metadata": {},
   "source": [
    "## 5.2 PCA using entire Feature dataset\n",
    "\n",
    "Given the results observed in the previous section (no real difference between scaled linear regression using all features and scaled linear regression using PCA features), it will next be attempted to apply PCA to the ~4500 samples of the full feature dataset to extract variability, then apply these new principal components to the target dataset to assess whether this improves the results. The main idea behind this attempt is that the true variance may better be captured using more samples of the features, even if their target is unknown.\n",
    "\n",
    "To do so, the all_data DataFrame is split in a similar fashion to the target_data DF, to extract the feature DataFrame X_all."
   ]
  },
  {
   "cell_type": "code",
   "execution_count": 25,
   "id": "06454d78",
   "metadata": {},
   "outputs": [],
   "source": [
    "X_all = all_data.drop(['Target'], axis=1, inplace=False)"
   ]
  },
  {
   "cell_type": "markdown",
   "id": "90f77f49",
   "metadata": {},
   "source": [
    "### Exploratory PCA\n",
    "\n",
    "Over 95% of the variance is captured by including 160 principal components. However, we could achieve capturing >90% of variance by taking significantly less principal components, 95 in total."
   ]
  },
  {
   "cell_type": "code",
   "execution_count": 26,
   "id": "1d4862b5",
   "metadata": {},
   "outputs": [
    {
     "data": {
      "image/png": "[encoded data removed]",
      "text/plain": [
       "<Figure size 432x288 with 1 Axes>"
      ]
     },
     "metadata": {
      "needs_background": "light"
     },
     "output_type": "display_data"
    }
   ],
   "source": [
    "# Explore PCA: scale the data and create principal components using PCA\n",
    "X_all_scaled = StandardScaler().fit_transform(X_all)\n",
    "\n",
    "# Fit maximum number of PCs\n",
    "pca_all_expl = PCA(n_components=min(X_all_scaled.shape))\n",
    "pca_all_features = pca_all_expl.fit_transform(X_all_scaled)\n",
    "\n",
    "# Plot relative variance explained by each added PCA feature and Pareto\n",
    "plt.bar(range(pca_all_expl.n_components_), pca_all_expl.explained_variance_/pca_all_expl.explained_variance_.sum())\n",
    "plt.plot((pca_all_expl.explained_variance_/pca_all_expl.explained_variance_.sum()).cumsum(), color='green')\n",
    "plt.axhline(y=.95, color='red', linestyle='--', linewidth=1)\n",
    "plt.axvline(x=160, color='red', linestyle='--', linewidth=1)\n",
    "plt.title('Principal Component feature importance (zoom)')\n",
    "plt.ylabel('Relative variance')\n",
    "plt.xlabel('Principal Component')\n",
    "# Zoom in on intersect region\n",
    "plt.xlim([80, 200])\n",
    "plt.ylim([.85, 1])\n",
    "plt.show()"
   ]
  },
  {
   "cell_type": "markdown",
   "id": "9a681c26",
   "metadata": {},
   "source": [
    "### Linear regression using PCs of all Feature samples\n",
    "\n",
    "This strategy made the cross-validation score much worse, on the same level os the non-standardised simple linear regression model."
   ]
  },
  {
   "cell_type": "code",
   "execution_count": 27,
   "id": "4e7df5d8",
   "metadata": {},
   "outputs": [
    {
     "name": "stdout",
     "output_type": "stream",
     "text": [
      "                 MAE CV_MAE\n",
      "model                      \n",
      "lr          9.58e-16   0.78\n",
      "lr_std      2.43e-16   0.32\n",
      "lr_pca      2.94e-02   0.31\n",
      "lr_pca_all  2.86e-02   0.72\n"
     ]
    }
   ],
   "source": [
    "# Initialisation\n",
    "name_pca_all = 'lr_pca_all'\n",
    "ss_pca_all = StandardScaler()\n",
    "pca_all = PCA(n_components=160)\n",
    "lr_pca_all = LinearRegression()\n",
    "\n",
    "# Fitting\n",
    "# No pipeline is used since we apply the PC transformation fitted on all samples (X_all)\n",
    "# to the 8 samples for which a target is provided (X)\n",
    "pca_all.fit(ss_pca_all.fit_transform(X_all))\n",
    "X_pca_allMols = pca.transform(ss_pca_all.transform(X))\n",
    "lr.fit(X_pca_allMols, y)\n",
    "\n",
    "# Predicting\n",
    "preds_pca_all = lr.predict(X_pca_allMols)\n",
    "\n",
    "# Metrics - MAE\n",
    "mae_pca_all = mean_absolute_error(y, preds_pca_all)\n",
    "\n",
    "# Metrics - CV\n",
    "cv_results_pca_all = cross_val_score(lr, X_pca_allMols, y, cv=8, scoring='neg_mean_absolute_error')\n",
    "cv_pca_all = abs(cv_results_pca_all).mean()\n",
    "\n",
    "# Format metrics\n",
    "metrics_pca_all = np.array([name_pca_all,'{:0.2e}'.format(mae_pca_all), '{:.2f}'.format(cv_pca_all)]).reshape((1, 3))\n",
    "\n",
    "# Combine metrics in single df\n",
    "if name_pca_all not in metrics.index:\n",
    "    metrics = pd.concat([metrics, pd.DataFrame(metrics_pca_all, columns=['model', 'MAE', 'CV_MAE']).set_index('model')],\n",
    "                        axis=0)\n",
    "\n",
    "# Show results\n",
    "print(metrics)"
   ]
  },
  {
   "cell_type": "markdown",
   "id": "d955fad3",
   "metadata": {},
   "source": [
    "## 5.3 LASSO regression\n",
    "\n",
    "There are two main regularization techniques for linear regression, called L1 and L2 regularization. By applying different penalization terms to the regression loss function, they aim at avoiding overfitting the model to the fitted dataset. The strategy applied is different for both regularization schemes. The end result:\n",
    "* Under L1 regularization, the amplitude of the least important features weights is forced to 0 to avoid overfitting\n",
    "* Under L2 regularization, the amplitude of all feature weights is scaled down to avoid overfitting\n",
    "\n",
    "This means that among both regularization schemes, only L1 regularization performs feature selection. L1 regularization is the scheme implemented in the LASSO regressor (L2 regularization being implemented in Ridge regression). LASSO (Least Absolute Shrinkage and Selection Operator) regression will therefore be used to reduce the dimensionality of the problem and avoid overfitting.\n",
    "\n",
    "### 5.3.1. Baseline LASSO model\n",
    "\n",
    "The baseline LASSO model significantly improves the cross-validation MAE, but there still is an order of magnitude difference between the cross-validation MAE and the model MAE, which indicates that the model is still overfitted to the target data."
   ]
  },
  {
   "cell_type": "code",
   "execution_count": 28,
   "id": "9e676533",
   "metadata": {},
   "outputs": [
    {
     "name": "stdout",
     "output_type": "stream",
     "text": [
      "                 MAE CV_MAE\n",
      "model                      \n",
      "lr          9.58e-16   0.78\n",
      "lr_std      2.43e-16   0.32\n",
      "lr_pca      2.94e-02   0.31\n",
      "lr_pca_all  2.86e-02   0.72\n",
      "lasso       2.58e-02   0.16\n"
     ]
    }
   ],
   "source": [
    "# Initialisation\n",
    "name_lasso = 'lasso'\n",
    "lasso = Lasso()\n",
    "\n",
    "# Fitting\n",
    "lasso.fit(X, y)\n",
    "\n",
    "# Predicting\n",
    "preds_lasso = lasso.predict(X)\n",
    "\n",
    "# Metrics - MAE\n",
    "mae_lasso = mean_absolute_error(y, preds_lasso)\n",
    "\n",
    "# Metrics - CV\n",
    "cv_results_lasso = cross_val_score(lasso, X, y, cv=8, scoring='neg_mean_absolute_error')\n",
    "cv_lasso = abs(cv_results_lasso).mean()\n",
    "\n",
    "# Format metrics\n",
    "metrics_lasso = np.array([name_lasso,'{:0.2e}'.format(mae_lasso), '{:.2f}'.format(cv_lasso)]).reshape((1, 3))\n",
    "\n",
    "# Combine metrics in single df\n",
    "if name_lasso not in metrics.index:\n",
    "    metrics = pd.concat([metrics, pd.DataFrame(metrics_lasso, columns=['model', 'MAE', 'CV_MAE']).set_index('model')],\n",
    "                        axis=0)\n",
    "\n",
    "# Show results\n",
    "print(metrics)"
   ]
  },
  {
   "cell_type": "markdown",
   "id": "4a6b5c37",
   "metadata": {},
   "source": [
    "## 5.3.2 LASSO regression with standardisation\n",
    "\n",
    "Aplying the StandardScaler before the LASSO regressor decreases the cross-validation MAE, but this is the first model for which the model MAE (that can be associated with the training set error) and the cross-validation MAE (that can be associated with the test set error) are close. This indicates that the LASSO regressor with standardization is the \"best simplest model\" found so far."
   ]
  },
  {
   "cell_type": "code",
   "execution_count": 29,
   "id": "8a87a130",
   "metadata": {},
   "outputs": [
    {
     "name": "stdout",
     "output_type": "stream",
     "text": [
      "                 MAE CV_MAE\n",
      "model                      \n",
      "lr          9.58e-16   0.78\n",
      "lr_std      2.43e-16   0.32\n",
      "lr_pca      2.94e-02   0.31\n",
      "lr_pca_all  2.86e-02   0.72\n",
      "lasso       2.58e-02   0.16\n",
      "lasso_std   1.68e-01   0.19\n"
     ]
    }
   ],
   "source": [
    "# Initialisation\n",
    "name_lasso_std = 'lasso_std'\n",
    "ss_lasso = StandardScaler()\n",
    "lasso_std = Lasso()\n",
    "pipeline_lasso_std = Pipeline([('scaler', ss_lasso), ('lasso', lasso_std)])\n",
    "\n",
    "# Fitting\n",
    "pipeline_lasso_std.fit(X, y)\n",
    "\n",
    "# Predicting\n",
    "preds_lasso_std = pipeline_lasso_std.predict(X)\n",
    "\n",
    "# Metrics - MAE\n",
    "mae_lasso_std = mean_absolute_error(y, preds_lasso_std)\n",
    "\n",
    "# Metrics - CV\n",
    "cv_results_lasso_std = cross_val_score(pipeline_lasso_std, X, y, cv=8, scoring='neg_mean_absolute_error')\n",
    "cv_lasso_std = abs(cv_results_lasso_std).mean()\n",
    "\n",
    "# Format metrics\n",
    "metrics_lasso_std = np.array([name_lasso_std,'{:0.2e}'.format(mae_lasso_std), '{:.2f}'.format(cv_lasso_std)]).reshape((1, 3))\n",
    "\n",
    "# Combine metrics in single df\n",
    "if name_lasso_std not in metrics.index:\n",
    "    metrics = pd.concat([metrics, pd.DataFrame(metrics_lasso_std, columns=['model', 'MAE', 'CV_MAE']).set_index('model')],\n",
    "                        axis=0)\n",
    "\n",
    "# Show results\n",
    "print(metrics)"
   ]
  },
  {
   "cell_type": "markdown",
   "id": "a8a778a7",
   "metadata": {},
   "source": [
    "### 5.3.3 LASSO model feature importance\n",
    "\n",
    "The most important features of both LASSO models are examined in comparison with the linear models important features. The baseline LASSO model only keeps 4 coefficients above 0 among the > 1600 possible predictors.\n",
    "\n",
    "The standardised LASSO model shows only missing values. To check whether this is an error, the .coef_ and .intercept_ are examined below. From this check, it becomes clear that with standardised input predictors, the LASSO model sets all coefficients to 0 and only fits an intercept of roughly 0.69.\n",
    "\n",
    "As a result, the LASSO regressor predicts that the \"best simplest model\" is actually just a constant. This is not useful for interpretability physical understanding."
   ]
  },
  {
   "cell_type": "code",
   "execution_count": 30,
   "id": "98223de2",
   "metadata": {},
   "outputs": [
    {
     "name": "stdout",
     "output_type": "stream",
     "text": [
      "            lr       lr_std       lasso lasso_std\n",
      "0   Feature185     Feature5   Feature66       NaN\n",
      "1    Feature66   Feature875   Feature80       NaN\n",
      "2    Feature88   Feature815  Feature667       NaN\n",
      "3    Feature77   Feature755  Feature187       NaN\n",
      "4    Feature64   Feature429         NaN       NaN\n",
      "5    Feature86   Feature845         NaN       NaN\n",
      "6   Feature116   Feature278         NaN       NaN\n",
      "7   Feature692  Feature1287         NaN       NaN\n",
      "8   Feature691   Feature785         NaN       NaN\n",
      "9    Feature80     Feature4         NaN       NaN\n",
      "10  Feature667   Feature414         NaN       NaN\n",
      "11  Feature689   Feature399         NaN       NaN\n",
      "12  Feature755  Feature1105         NaN       NaN\n",
      "13  Feature597  Feature1285         NaN       NaN\n",
      "14  Feature845  Feature1143         NaN       NaN\n",
      "15  Feature595  Feature1061         NaN       NaN\n",
      "16  Feature754   Feature998         NaN       NaN\n",
      "17  Feature255  Feature1094         NaN       NaN\n",
      "18  Feature750   Feature369         NaN       NaN\n",
      "19  Feature844   Feature377         NaN       NaN\n"
     ]
    }
   ],
   "source": [
    "# Initialize LASSO model names and link to regressor\n",
    "lasso_names = {'lasso': lasso,\n",
    "               'lasso_std': lasso_std}\n",
    "\n",
    "# Append LASSO most important features to DataFrame created previously for linear regression models\n",
    "for lasso_name in lasso_names:\n",
    "    \n",
    "    # Create temporary DataFrame with all feature importances for model\n",
    "    feature_df = pd.DataFrame({'Feature': X.columns,\n",
    "                              'Coefficient': lasso_names[lasso_name].coef_,\n",
    "                              'Importance': abs(lasso_names[lasso_name].coef_)})\n",
    "\n",
    "    # Avoid adding duplicate columns\n",
    "    if lasso_name not in important_features.columns:\n",
    "        # Add the most important non-null features of the LASSO model to the important_features df\n",
    "        important_features = pd.concat([important_features,\n",
    "                                        feature_df[feature_df.Importance > 0]\n",
    "                                            .sort_values(by='Importance', ascending=False)\n",
    "                                            .reset_index()\n",
    "                                            .Feature\n",
    "                                            .rename(lasso_name)],\n",
    "                                       axis=1)\n",
    "\n",
    "# See all important features for all models\n",
    "print(important_features)"
   ]
  },
  {
   "cell_type": "code",
   "execution_count": 31,
   "id": "033de05b",
   "metadata": {},
   "outputs": [
    {
     "name": "stdout",
     "output_type": "stream",
     "text": [
      "Sum of all coefficient amplitudes = 0.0\n",
      "Standardised LASSO model intercept = 0.69355\n"
     ]
    }
   ],
   "source": [
    "print(f'Sum of all coefficient amplitudes = {lasso_std.coef_.sum()}')\n",
    "print(f'Standardised LASSO model intercept = {lasso_std.intercept_}')"
   ]
  },
  {
   "cell_type": "markdown",
   "id": "b3ed4d13",
   "metadata": {},
   "source": [
    "# 6. Hyperparameter tuning\n",
    "\n",
    "Since the \"best simplest model\" found so far turned out to be a constant \"model\", the LASSO regressor (that provided the best metrics so far) is further tuned to attempt to find a better model. Again, two models are fitted using a StandardScaler or not to assess its impact.\n",
    "\n",
    "## 6.1 Tuned LASSO regressor"
   ]
  },
  {
   "cell_type": "code",
   "execution_count": 32,
   "id": "7e8b2477",
   "metadata": {},
   "outputs": [
    {
     "name": "stdout",
     "output_type": "stream",
     "text": [
      "Best LASSO parameters: {'alpha': 0.001, 'fit_intercept': False, 'max_iter': 100, 'normalize': True, 'tol': 0.1}\n",
      "                  MAE CV_MAE\n",
      "model                       \n",
      "lr           9.58e-16   0.78\n",
      "lr_std       2.43e-16   0.32\n",
      "lr_pca       2.94e-02   0.31\n",
      "lr_pca_all   2.86e-02   0.72\n",
      "lasso        2.58e-02   0.16\n",
      "lasso_std    1.68e-01   0.19\n",
      "lasso_tuned  3.86e-03   0.15\n"
     ]
    }
   ],
   "source": [
    "# Initialisation\n",
    "name_lasso_tuned = 'lasso_tuned'\n",
    "lasso_tuned = Lasso()\n",
    "\n",
    "# Define parameter grid to tune\n",
    "lasso_params = {'alpha': [0.001, 0.01, 0.1, 1, 10, 100],\n",
    "               'normalize': [True, False],\n",
    "               'fit_intercept': [True, False],\n",
    "               'max_iter': [100, 1000, 10000],\n",
    "               'tol': [0.001, 0.01, 0.1]}\n",
    "\n",
    "# Initialize GridSearch tuner\n",
    "grid_search = GridSearchCV(estimator=lasso_tuned, param_grid=lasso_params, scoring='neg_mean_absolute_error')\n",
    "\n",
    "# Fitting\n",
    "grid_search.fit(X, y)\n",
    "print(f'Best LASSO parameters: {grid_search.best_params_}')\n",
    "\n",
    "# Predicting\n",
    "best_lasso = grid_search.best_estimator_\n",
    "preds_lasso_tuned = best_lasso.predict(X)\n",
    "\n",
    "# Metrics - MAE\n",
    "mae_lasso_tuned = mean_absolute_error(y, preds_lasso_tuned)\n",
    "\n",
    "# Metrics - CV\n",
    "cv_results_lasso_tuned = cross_val_score(best_lasso, X, y, cv=8, scoring='neg_mean_absolute_error')\n",
    "cv_lasso_tuned = abs(cv_results_lasso_tuned).mean()\n",
    "\n",
    "# Format metrics\n",
    "metrics_lasso_tuned = np.array([name_lasso_tuned,'{:0.2e}'.format(mae_lasso_tuned), '{:.2f}'.format(cv_lasso_tuned)]).reshape((1, 3))\n",
    "\n",
    "# Combine metrics in single df\n",
    "if name_lasso_tuned not in metrics.index:\n",
    "    metrics = pd.concat([metrics, pd.DataFrame(metrics_lasso_tuned, columns=['model', 'MAE', 'CV_MAE']).set_index('model')],\n",
    "                        axis=0)\n",
    "\n",
    "# Show results\n",
    "print(metrics)"
   ]
  },
  {
   "cell_type": "markdown",
   "id": "c16c9bf4",
   "metadata": {},
   "source": [
    "## 6.2 Tuned standardised LASSO regressor"
   ]
  },
  {
   "cell_type": "code",
   "execution_count": 33,
   "id": "65265cb6",
   "metadata": {},
   "outputs": [
    {
     "name": "stdout",
     "output_type": "stream",
     "text": [
      "Best LASSO parameters with standardiser: {'lasso__alpha': 0.1, 'lasso__fit_intercept': True, 'lasso__max_iter': 100, 'lasso__normalize': False, 'lasso__tol': 0.01}\n",
      "                      MAE CV_MAE\n",
      "model                           \n",
      "lr               9.58e-16   0.78\n",
      "lr_std           2.43e-16   0.32\n",
      "lr_pca           2.94e-02   0.31\n",
      "lr_pca_all       2.86e-02   0.72\n",
      "lasso            2.58e-02   0.16\n",
      "lasso_std        1.68e-01   0.19\n",
      "lasso_tuned      3.86e-03   0.15\n",
      "lasso_std_tuned  8.58e-02   0.16\n"
     ]
    }
   ],
   "source": [
    "# Initialisation\n",
    "name_lasso_std_tuned = 'lasso_std_tuned'\n",
    "ss_lasso_tuned = StandardScaler()\n",
    "lasso_std_tuned = Lasso()\n",
    "pipeline_lasso_std_tuned = Pipeline([('scaler', ss_lasso_tuned), ('lasso', lasso_std_tuned)])\n",
    "\n",
    "# Define parameter grid to tune\n",
    "lasso_std_params = {'lasso__alpha': [0.001, 0.01, 0.1, 1, 10, 100],\n",
    "                    'lasso__normalize': [True, False],\n",
    "                    'lasso__fit_intercept': [True, False],\n",
    "                    'lasso__max_iter': [100, 1000, 10000],\n",
    "                    'lasso__tol': [0.001, 0.01, 0.1]}\n",
    "\n",
    "# Initialize GridSearch tuner\n",
    "grid_search_std = GridSearchCV(estimator=pipeline_lasso_std_tuned, param_grid=lasso_std_params, scoring='neg_mean_absolute_error')\n",
    "\n",
    "# Fitting\n",
    "grid_search_std.fit(X, y)\n",
    "print(f'Best LASSO parameters with standardiser: {grid_search_std.best_params_}')\n",
    "\n",
    "# Predicting\n",
    "best_lasso_std = grid_search_std.best_estimator_\n",
    "preds_lasso_std_tuned = best_lasso_std.predict(X)\n",
    "\n",
    "# Metrics - MAE\n",
    "mae_lasso_std_tuned = mean_absolute_error(y, preds_lasso_std_tuned)\n",
    "\n",
    "# Metrics - CV\n",
    "cv_results_lasso_std_tuned = cross_val_score(best_lasso_std, X, y, cv=8, scoring='neg_mean_absolute_error')\n",
    "cv_lasso_std_tuned = abs(cv_results_lasso_std_tuned).mean()\n",
    "\n",
    "# Format metrics\n",
    "metrics_lasso_std_tuned = np.array([name_lasso_std_tuned,'{:0.2e}'.format(mae_lasso_std_tuned), '{:.2f}'.format(cv_lasso_std_tuned)]).reshape((1, 3))\n",
    "\n",
    "# Combine metrics in single df\n",
    "if name_lasso_std_tuned not in metrics.index:\n",
    "    metrics = pd.concat([metrics, pd.DataFrame(metrics_lasso_std_tuned, columns=['model', 'MAE', 'CV_MAE']).set_index('model')],\n",
    "                        axis=0)\n",
    "\n",
    "# Show results\n",
    "print(metrics)"
   ]
  },
  {
   "cell_type": "markdown",
   "id": "6693f19d",
   "metadata": {},
   "source": [
    "## 6.3 Tuned LASSO feature importance"
   ]
  },
  {
   "cell_type": "code",
   "execution_count": 34,
   "id": "1e16a837",
   "metadata": {
    "scrolled": true
   },
   "outputs": [
    {
     "name": "stdout",
     "output_type": "stream",
     "text": [
      "            lr       lr_std       lasso lasso_std lasso_tuned lasso_std_tuned\n",
      "0   Feature185     Feature5   Feature66       NaN   Feature16      Feature974\n",
      "1    Feature66   Feature875   Feature80       NaN   Feature17      Feature983\n",
      "2    Feature88   Feature815  Feature667       NaN   Feature14     Feature1047\n",
      "3    Feature77   Feature755  Feature187       NaN   Feature23             NaN\n",
      "4    Feature64   Feature429         NaN       NaN   Feature19             NaN\n",
      "5    Feature86   Feature845         NaN       NaN  Feature399             NaN\n",
      "6   Feature116   Feature278         NaN       NaN  Feature301             NaN\n",
      "7   Feature692  Feature1287         NaN       NaN   Feature40             NaN\n",
      "8   Feature691   Feature785         NaN       NaN  Feature400             NaN\n",
      "9    Feature80     Feature4         NaN       NaN  Feature398             NaN\n",
      "10  Feature667   Feature414         NaN       NaN  Feature815             NaN\n",
      "11  Feature689   Feature399         NaN       NaN   Feature21             NaN\n",
      "12  Feature755  Feature1105         NaN       NaN  Feature414             NaN\n",
      "13  Feature597  Feature1285         NaN       NaN    Feature9             NaN\n",
      "14  Feature845  Feature1143         NaN       NaN   Feature15             NaN\n",
      "15  Feature595  Feature1061         NaN       NaN    Feature1             NaN\n",
      "16  Feature754   Feature998         NaN       NaN  Feature755             NaN\n",
      "17  Feature255  Feature1094         NaN       NaN   Feature38             NaN\n",
      "18  Feature750   Feature369         NaN       NaN  Feature300             NaN\n",
      "19  Feature844   Feature377         NaN       NaN  Feature756             NaN\n"
     ]
    }
   ],
   "source": [
    "# Initialize LASSO model names and link to regressor\n",
    "lasso_tuned_names = {'lasso_tuned': best_lasso,\n",
    "                     'lasso_std_tuned': best_lasso_std}\n",
    "\n",
    "# Append LASSO most important features to DataFrame created previously for linear regression models\n",
    "for lasso_name in lasso_tuned_names:\n",
    "    \n",
    "    # Create temporary DataFrame with all feature importances for model,\n",
    "    # Handle AttributeError if estimator is a pipeline:\n",
    "    try:\n",
    "        feature_df = pd.DataFrame({'Feature': X.columns,\n",
    "                                   'Coefficient': lasso_tuned_names[lasso_name].coef_,\n",
    "                                   'Importance': abs(lasso_tuned_names[lasso_name].coef_)})\n",
    "    except AttributeError:\n",
    "        feature_df = pd.DataFrame({'Feature': X.columns,\n",
    "                                   'Coefficient': lasso_tuned_names[lasso_name].named_steps['lasso'].coef_,\n",
    "                                   'Importance': abs(lasso_tuned_names[lasso_name].named_steps['lasso'].coef_)})\n",
    "    else:\n",
    "        feature_df = pd.DataFrame({'Feature': X.columns,\n",
    "                                   'Coefficient': lasso_tuned_names[lasso_name].coef_,\n",
    "                                   'Importance': abs(lasso_tuned_names[lasso_name].coef_)})\n",
    "\n",
    "    # Avoid adding duplicate columns\n",
    "    if lasso_name not in important_features.columns:\n",
    "        # Add the most important non-null features of the LASSO model to the important_features df\n",
    "        important_features = pd.concat([important_features,\n",
    "                                        feature_df[feature_df.Importance > 0]\n",
    "                                            .sort_values(by='Importance', ascending=False)\n",
    "                                            .reset_index()\n",
    "                                            .Feature\n",
    "                                            .rename(lasso_name)\n",
    "                                            .head(20)],\n",
    "                                       axis=1)\n",
    "\n",
    "# See all important features for all models\n",
    "print(important_features)"
   ]
  },
  {
   "cell_type": "markdown",
   "id": "eae0d4a4",
   "metadata": {},
   "source": [
    "# 7. Conclusion\n",
    "\n",
    "## 7.1 Models fitted\n",
    "\n",
    "In conclusion, 8 different models were fitted\n",
    "\n",
    "* Linear regression, with and without standardisation and with and without PCA\n",
    "* LASSO regression, with and wthout standardisation and with and without hyperparameter tuning.\n",
    "\n",
    "## 7.2 Model metrics\n",
    "\n",
    "For each model, Several metrics were computed for comparison:\n",
    "\n",
    "* The metric of choice was the mean absolute error (MAE).\n",
    "* Each model was subsequently fitted using 8-fold cross-validation to assess the impact of leaving out each sample of the dataset individually, using the average MAE as a metric (CV_MAE).\n",
    "\n",
    "While the first (MEA) can be assimilated to a standard training error, the second (CV_MAE) can be assimilated to a standard testing error (even though in this case it is really a cross-validation score given the small sample size available, see full discussion in the modelling strategy).\n",
    "\n",
    "Since the difference between the training and testing error is assimilated to overfitting (when training error becomes significantly smaller than the testing error), the absolute difference between MAE and CV_MAE is calculated as a metric of model overfitting."
   ]
  },
  {
   "cell_type": "code",
   "execution_count": 35,
   "id": "b31f59ca",
   "metadata": {
    "scrolled": true
   },
   "outputs": [],
   "source": [
    "if 'ScoreDiff' not in metrics.columns:\n",
    "    metrics['ScoreDiff'] = np.round(abs(metrics['MAE'].astype('float') - metrics['CV_MAE'].astype('float')), 2)\n",
    "\n",
    "metrics.reset_index(inplace=True)\n",
    "metrics['MAE'] = metrics.MAE.astype('float')\n",
    "metrics['CV_MAE'] = metrics.CV_MAE.astype('float')"
   ]
  },
  {
   "cell_type": "code",
   "execution_count": 36,
   "id": "f50187fe",
   "metadata": {
    "scrolled": true
   },
   "outputs": [
    {
     "data": {
      "image/png": "[encoded data removed]",
      "text/plain": [
       "<Figure size 1152x432 with 3 Axes>"
      ]
     },
     "metadata": {
      "needs_background": "light"
     },
     "output_type": "display_data"
    }
   ],
   "source": [
    "fig, axes = plt.subplots(1, 3, figsize=(16, 6))\n",
    "\n",
    "sns.barplot(data=metrics,\n",
    "            x='model',\n",
    "            y='ScoreDiff', \n",
    "            order=metrics.sort_values(by=['ScoreDiff'], ascending=True).set_index('model').index,\n",
    "            palette=colours,\n",
    "            ax=axes[0])\n",
    "\n",
    "sns.barplot(data=metrics,\n",
    "            x='model',\n",
    "            y='MAE', \n",
    "            order=metrics.sort_values(by=['MAE'], ascending=False).set_index('model').index,\n",
    "            palette=[colours[i] for i in [0, 1, 4, 6, 2, 3, 7, 5]],\n",
    "            ax=axes[1])\n",
    "\n",
    "sns.barplot(data=metrics,\n",
    "            x='model',\n",
    "            y='CV_MAE', \n",
    "            order=metrics.sort_values(by=['CV_MAE'], ascending=True).set_index('model').index,\n",
    "            palette=[colours[i] for i in [3, 2, 1, 0, 4, 5, 6, 7]],\n",
    "            ax=axes[2])\n",
    "\n",
    "axes[0].tick_params(labelrotation=90)\n",
    "axes[1].tick_params(labelrotation=90)\n",
    "axes[2].tick_params(labelrotation=90)\n",
    "axes[0].set_title('Difference between MAE and CV score by model')\n",
    "axes[1].set_title('Mean absolute error by model')\n",
    "axes[2].set_title('Cross-validation score by model')\n",
    "plt.show()"
   ]
  },
  {
   "cell_type": "code",
   "execution_count": 37,
   "id": "12c901e3",
   "metadata": {},
   "outputs": [
    {
     "name": "stdout",
     "output_type": "stream",
     "text": [
      "             model           MAE  CV_MAE  ScoreDiff\n",
      "0               lr  9.580000e-16    0.78       0.78\n",
      "1           lr_std  2.430000e-16    0.32       0.32\n",
      "2           lr_pca  2.940000e-02    0.31       0.28\n",
      "3       lr_pca_all  2.860000e-02    0.72       0.69\n",
      "4            lasso  2.580000e-02    0.16       0.13\n",
      "5        lasso_std  1.680000e-01    0.19       0.02\n",
      "6      lasso_tuned  3.860000e-03    0.15       0.15\n",
      "7  lasso_std_tuned  8.580000e-02    0.16       0.07\n"
     ]
    }
   ],
   "source": [
    "print(metrics)"
   ]
  },
  {
   "cell_type": "markdown",
   "id": "041117aa",
   "metadata": {},
   "source": [
    "## 7.3 Model performance comparison\n",
    "\n",
    "Overall, the models performed best in the following order: tuned LASSO > LASSO > PCA > linear regression.\n",
    "\n",
    "* As stated previously, the best models for fitting all 8 samples exactly are the inear regression modelss which use all possible predictors. Although they technically provide the best answer to the assignment, these models have no meaning and provide no explainability.\n",
    "\n",
    "\n",
    "* When considering the difference between the MAE and CV_MAE as a metric for detecting overfitting, the best performing model is lasso_std, with almost equal MAE and CV_MAE. However, as seen above, this model includes none of the predictors and only fits the targets using the intercept. The fact that the LASSO regressor set all predictors to 0 is probably a symptom of the sample size being too small to be fit efficiently. Furthermore, it is only the 4th best model at predicting unseen targets, and it is by far the worst model at fitting all 8 targets, which is the baseline assignment. For these reasons, let's look further to find the \"best simplest model\" we are looking for.\n",
    "\n",
    "\n",
    "* The model that performs best at predicting unseen targets (for which CV_MAE is smallest) is the lasso_tuned model. This model performs exceedingly well at fitting the training data as well, with an even lower MAE, an indication that the model is still overfit to the training dataset, although, as stated above, this is almost impossible to achieve given the very small sample size and the large variance in the samples.\n",
    "\n",
    "\n",
    "* Other contenders for the \"best simplest model\" are the regular LASSO model (lasso) and the tuned and standardised LASSO model (lasso_std_tuned), which are second and third best at minimising the difference between MAE and CV_MAE, are good at fitting the provided targets and are almost as good as the lasso_std model at predicting unseen targets. The biggest difference is that they perform worse at fitting the 8 targets (higher MAE) than lasso_tuned. This may be an indication that lasso_tuned overfits the targets more than the other models.\n",
    "\n",
    "## 7.4 \"Best simplest model\"\n",
    "\n",
    "The \"best simplest model\" fit in this exercise is among the lasso_tuned, lasso and lasso_std_tuned models. The \"best simplest model\" will be determined based on 3 arguments: metrics, simplicity and explainability.\n",
    "\n",
    "### The metrics argument\n",
    "\n",
    "\n",
    "From the metrics point of view, all three models perform equally well on predicting unseen samples as indicated by their low cross- validation scores (low CV_MAE). The lasso_tuned model obtains the best fit to the 8 targets, followed by the lasso and the lasso_std_tuned model, which is the worst. However, this is an indication that the lasso_tuned model is the least overfit, leading to a lower MAE - CV_MAE difference. \n",
    "\n",
    "Overall, the **lasso_tuned** model performs best metrics-wise, followed by the lasso model, and then the lasso_std_tuned model."
   ]
  },
  {
   "cell_type": "code",
   "execution_count": 38,
   "id": "e6a0a90b",
   "metadata": {
    "scrolled": false
   },
   "outputs": [
    {
     "name": "stdout",
     "output_type": "stream",
     "text": [
      "             model      MAE  CV_MAE  ScoreDiff\n",
      "4            lasso  0.02580    0.16       0.13\n",
      "6      lasso_tuned  0.00386    0.15       0.15\n",
      "7  lasso_std_tuned  0.08580    0.16       0.07\n"
     ]
    }
   ],
   "source": [
    "print(metrics[metrics.model.isin(['lasso_tuned', 'lasso', 'lasso_std_tuned'])])"
   ]
  },
  {
   "cell_type": "markdown",
   "id": "6dc0041d",
   "metadata": {},
   "source": [
    "### The simplicity argument\n",
    "\n",
    "From the simplicity point of view, the lasso_std_tuned model is the simplest of the models, using only 3 predictors for similar goodness of fit and cross-validation scores. The lasso model includes only 4 predictors and is the second simplest. The lasso_tuned model contains 422 features and is by far the most complex model. A case can also be made for the lasso model that is simpler from the modelling perspective, if computing time becomes an issue with larger datasets. \n",
    "\n",
    "Overall, the **lasso_std_tuned** is the simplest model, followed by lasso and lasso_tuned."
   ]
  },
  {
   "cell_type": "code",
   "execution_count": 39,
   "id": "160218a8",
   "metadata": {},
   "outputs": [
    {
     "name": "stdout",
     "output_type": "stream",
     "text": [
      "The tuned LASSO model includes 422 non-zero coefficients\n",
      "The base LASSO model includes 4 non-zero coefficients\n",
      "The tuned and standardised LASSO model includes 3 non-zero coefficients\n"
     ]
    }
   ],
   "source": [
    "print(f'The tuned LASSO model includes {best_lasso.coef_[best_lasso.coef_ != 0].shape[0]} non-zero coefficients')\n",
    "print(f'The base LASSO model includes {lasso.coef_[lasso.coef_ != 0].shape[0]} non-zero coefficients')\n",
    "print('The tuned and standardised LASSO model includes',\n",
    "      best_lasso_std.named_steps['lasso'].coef_[best_lasso_std.named_steps['lasso'].coef_ > 0].shape[0],\n",
    "      'non-zero coefficients')"
   ]
  },
  {
   "cell_type": "markdown",
   "id": "f5fa3cb6",
   "metadata": {},
   "source": [
    "### The explainability argument\n",
    "\n",
    "Explainability is an important metric of a linear model since such models allow to determine easily which predictors contribute most to its fit. The top 5 features of both models are detailed to assess their link with the target.\n",
    "\n",
    "The 5 top features of the lasso_tuned model are:\n",
    "\\[List anonymised\\]\n",
    "\n",
    "\\[Explanation anonymised\\]\n",
    "\n",
    "The 3 features of the lasso_std_tuned model are:\n",
    "\\[List anonymised\\]\n",
    "\n",
    "\\[Explanation anonymised\\]\n",
    "\n",
    "The 4 features of the lasso model are:\n",
    "\\[List anonymised\\]\n",
    "\n",
    "\\[Explanation anonymised\\]\n",
    "\n",
    "\\[Explanation anonymised\\] The **lasso_tuned** is by far the most easily interpretable."
   ]
  },
  {
   "cell_type": "code",
   "execution_count": 40,
   "id": "2092a7cf",
   "metadata": {},
   "outputs": [
    {
     "name": "stdout",
     "output_type": "stream",
     "text": [
      "        lasso lasso_tuned lasso_std_tuned\n",
      "0   Feature66   Feature16      Feature974\n",
      "1   Feature80   Feature17      Feature983\n",
      "2  Feature667   Feature14     Feature1047\n",
      "3  Feature187   Feature23             NaN\n",
      "4         NaN   Feature19             NaN\n"
     ]
    }
   ],
   "source": [
    "print(important_features[['lasso', 'lasso_tuned', 'lasso_std_tuned']].head())"
   ]
  },
  {
   "cell_type": "markdown",
   "id": "0bf62ca4",
   "metadata": {},
   "source": [
    "### Overall, \n",
    "\n",
    "* The **lasso_tuned** model provides a very good fit to the target data and performs the best at predicting unseen targets.\n",
    "* The **lasso_std_tuned** model is simpler since it based on only 3 features, which is an indication of its lack of overfitting\n",
    "* The **lasso_tuned** model is easier to interpret since it is based on \\[explanation anonymised\\]\n",
    "\n",
    "The “best simplest model” fit in this exercise is lasso_tuned, a LASSO regressor with tuned hyperparameters using a GridSearchCV resulting in: alpha=0.001, fit_intercept=False, max_iter=100, normalize=True, tol=0.1. The mean absolute error of this model to fit the 8 targets is about 0.004. The cross-validation mean absolute error obtained by this model, a metric of how well the model should be able to fit unseen samples (and therefore to have captured the true variance of the data) is 0.15. This model is likely overfit to the data given its 422 features and very low fit mean absolute error, but fits the targets very well and performs the best when predicting the target of samples left out of the dataset. Furthermore, its features are easily interpretable which makes it more explanable than the other models."
   ]
  },
  {
   "cell_type": "code",
   "execution_count": 41,
   "id": "f7bb8aef",
   "metadata": {},
   "outputs": [
    {
     "name": "stdout",
     "output_type": "stream",
     "text": [
      "Lasso(alpha=0.001, fit_intercept=False, max_iter=100, normalize=True, tol=0.1)\n"
     ]
    }
   ],
   "source": [
    "print(best_lasso)"
   ]
  },
  {
   "cell_type": "markdown",
   "id": "60bfdcd9",
   "metadata": {},
   "source": [
    "If the purpose of the model would have been to predict the targets of new samples, the lasso_std_tuned would likely produce equally good (or bad) results for seen and unseen samples, with a cross-validation MAE of 0.16, but would perform poorly on the provided targets, with an MAE of about 0.085, and is less interpretable than lasso_tuned."
   ]
  },
  {
   "cell_type": "code",
   "execution_count": 42,
   "id": "b1cafb52",
   "metadata": {},
   "outputs": [
    {
     "name": "stdout",
     "output_type": "stream",
     "text": [
      "Lasso(alpha=0.1, max_iter=100, normalize=False, tol=0.01)\n"
     ]
    }
   ],
   "source": [
    "print(best_lasso_std.named_steps['lasso'])"
   ]
  },
  {
   "cell_type": "markdown",
   "id": "66e0798f",
   "metadata": {},
   "source": [
    "# Other options to consider\n",
    "\n",
    "Further feature selection methods could be explored, such as \n",
    "* Attempting simple linear regression based on the top LASSO features\n",
    "* Decision tree based on the top LASSO features (to avoid overfitting)\n",
    "* Forward and Backward feature selection using SequentialFeatureSelector\n",
    "* SelectFromModel combined with LinearSVC\n",
    "* Univariate feature selection based on statistical correlation (e.g. SelectKBest)\n",
    "* Explore the impact of the order of samples in the DataFrame on LASSO regression results"
   ]
  }
 ],
 "metadata": {
  "kernelspec": {
   "display_name": "Python 3 (ipykernel)",
   "language": "python",
   "name": "python3"
  },
  "language_info": {
   "codemirror_mode": {
    "name": "ipython",
    "version": 3
   },
   "file_extension": ".py",
   "mimetype": "text/x-python",
   "name": "python",
   "nbconvert_exporter": "python",
   "pygments_lexer": "ipython3",
   "version": "3.9.10"
  }
 },
 "nbformat": 4,
 "nbformat_minor": 5
}
